{
 "cells": [
  {
   "cell_type": "code",
   "execution_count": 1,
   "id": "ffb342cf",
   "metadata": {
    "_cell_guid": "b1076dfc-b9ad-4769-8c92-a6c4dae69d19",
    "_uuid": "8f2839f25d086af736a60e9eeb907d3b93b6e0e5",
    "execution": {
     "iopub.execute_input": "2023-08-25T08:04:53.763124Z",
     "iopub.status.busy": "2023-08-25T08:04:53.762674Z",
     "iopub.status.idle": "2023-08-25T08:04:53.783503Z",
     "shell.execute_reply": "2023-08-25T08:04:53.782318Z"
    },
    "papermill": {
     "duration": 0.041568,
     "end_time": "2023-08-25T08:04:53.785854",
     "exception": false,
     "start_time": "2023-08-25T08:04:53.744286",
     "status": "completed"
    },
    "tags": []
   },
   "outputs": [
    {
     "name": "stdout",
     "output_type": "stream",
     "text": [
      "/kaggle/input/customer-churn/customer_churn_large_dataset.xlsx\n"
     ]
    }
   ],
   "source": [
    "# This Python 3 environment comes with many helpful analytics libraries installed\n",
    "# It is defined by the kaggle/python Docker image: https://github.com/kaggle/docker-python\n",
    "# For example, here's several helpful packages to load\n",
    "\n",
    "# Input data files are available in the read-only \"../input/\" directory\n",
    "# For example, running this (by clicking run or pressing Shift+Enter) will list all files under the input directory\n",
    "\n",
    "import os\n",
    "for dirname, _, filenames in os.walk('/kaggle/input'):\n",
    "    for filename in filenames:\n",
    "        print(os.path.join(dirname, filename))\n",
    "\n",
    "# You can write up to 20GB to the current directory (/kaggle/working/) that gets preserved as output when you create a version using \"Save & Run All\" \n",
    "# You can also write temporary files to /kaggle/temp/, but they won't be saved outside of the current session"
   ]
  },
  {
   "cell_type": "markdown",
   "id": "6f85e485",
   "metadata": {
    "papermill": {
     "duration": 0.016276,
     "end_time": "2023-08-25T08:04:53.818458",
     "exception": false,
     "start_time": "2023-08-25T08:04:53.802182",
     "status": "completed"
    },
    "tags": []
   },
   "source": [
    "# TELECOM CUSTOMER CHURN PREDICTION 📈"
   ]
  },
  {
   "cell_type": "markdown",
   "id": "00d49bdf",
   "metadata": {
    "papermill": {
     "duration": 0.01567,
     "end_time": "2023-08-25T08:04:53.850498",
     "exception": false,
     "start_time": "2023-08-25T08:04:53.834828",
     "status": "completed"
    },
    "tags": []
   },
   "source": [
    "## Introduction\n",
    "\n",
    "**What is Customer Churn?**  \n",
    "Customer churn is defined as when customers or subscribers discontinue doing business with a firm or service. In the telecom industry, customers have the option to switch service providers, leading to an annual churn rate of 15-25%. Reducing customer churn is crucial, as acquiring new customers is more expensive than retaining existing ones.\n"
   ]
  },
  {
   "cell_type": "markdown",
   "id": "563c16dc",
   "metadata": {
    "papermill": {
     "duration": 0.015708,
     "end_time": "2023-08-25T08:04:53.882173",
     "exception": false,
     "start_time": "2023-08-25T08:04:53.866465",
     "status": "completed"
    },
    "tags": []
   },
   "source": [
    "**How can customer churn be reduced?**  \n",
    "To reduce customer churn, telecom companies need to predict which customers are at high risk of leaving. By forecasting potential churn, companies can focus their retention efforts on these \"high risk\" customers, leading to increased customer loyalty and profitability.\n"
   ]
  },
  {
   "cell_type": "markdown",
   "id": "6b389d0e",
   "metadata": {
    "papermill": {
     "duration": 0.015688,
     "end_time": "2023-08-25T08:04:53.914379",
     "exception": false,
     "start_time": "2023-08-25T08:04:53.898691",
     "status": "completed"
    },
    "tags": []
   },
   "source": [
    "**Objectives**  \n",
    "In this analysis, we aim to explore the data and address questions such as:\n",
    "- What is the percentage of churn customers versus active customers?\n",
    "- Are there any patterns in churn based on gender?\n",
    "- Are there preferences among churn customers based on the type of service?\n",
    "- What are the most profitable service types and features?\n",
    "- Which features and services contribute the most to profitability?\n"
   ]
  },
  {
   "cell_type": "markdown",
   "id": "70e0f106",
   "metadata": {
    "papermill": {
     "duration": 0.015873,
     "end_time": "2023-08-25T08:04:53.946280",
     "exception": false,
     "start_time": "2023-08-25T08:04:53.930407",
     "status": "completed"
    },
    "tags": []
   },
   "source": [
    "* Importing Libraries"
   ]
  },
  {
   "cell_type": "code",
   "execution_count": 2,
   "id": "deb3fbdd",
   "metadata": {
    "execution": {
     "iopub.execute_input": "2023-08-25T08:04:53.981118Z",
     "iopub.status.busy": "2023-08-25T08:04:53.979492Z",
     "iopub.status.idle": "2023-08-25T08:05:03.300487Z",
     "shell.execute_reply": "2023-08-25T08:05:03.299471Z"
    },
    "papermill": {
     "duration": 9.341155,
     "end_time": "2023-08-25T08:05:03.303346",
     "exception": false,
     "start_time": "2023-08-25T08:04:53.962191",
     "status": "completed"
    },
    "tags": []
   },
   "outputs": [
    {
     "name": "stderr",
     "output_type": "stream",
     "text": [
      "/opt/conda/lib/python3.10/site-packages/scipy/__init__.py:146: UserWarning: A NumPy version >=1.16.5 and <1.23.0 is required for this version of SciPy (detected version 1.23.5\n",
      "  warnings.warn(f\"A NumPy version >={np_minversion} and <{np_maxversion}\"\n",
      "/opt/conda/lib/python3.10/site-packages/tensorflow_io/python/ops/__init__.py:98: UserWarning: unable to load libtensorflow_io_plugins.so: unable to open file: libtensorflow_io_plugins.so, from paths: ['/opt/conda/lib/python3.10/site-packages/tensorflow_io/python/ops/libtensorflow_io_plugins.so']\n",
      "caused by: ['/opt/conda/lib/python3.10/site-packages/tensorflow_io/python/ops/libtensorflow_io_plugins.so: undefined symbol: _ZN3tsl6StatusC1EN10tensorflow5error4CodeESt17basic_string_viewIcSt11char_traitsIcEENS_14SourceLocationE']\n",
      "  warnings.warn(f\"unable to load libtensorflow_io_plugins.so: {e}\")\n",
      "/opt/conda/lib/python3.10/site-packages/tensorflow_io/python/ops/__init__.py:104: UserWarning: file system plugins are not loaded: unable to open file: libtensorflow_io.so, from paths: ['/opt/conda/lib/python3.10/site-packages/tensorflow_io/python/ops/libtensorflow_io.so']\n",
      "caused by: ['/opt/conda/lib/python3.10/site-packages/tensorflow_io/python/ops/libtensorflow_io.so: undefined symbol: _ZTVN10tensorflow13GcsFileSystemE']\n",
      "  warnings.warn(f\"file system plugins are not loaded: {e}\")\n"
     ]
    }
   ],
   "source": [
    "# Importing libraries\n",
    "import numpy as np \n",
    "import pandas as pd\n",
    "import matplotlib.pyplot as plt\n",
    "import tensorflow as tf\n",
    "import seaborn as sns\n",
    "from sklearn.preprocessing import StandardScaler\n",
    "import time\n",
    "from sklearn.model_selection import train_test_split\n",
    "from sklearn.metrics import accuracy_score, precision_score, recall_score, f1_score\n",
    "import missingno as msno\n",
    "import warnings\n",
    "\n",
    "warnings.filterwarnings('ignore')"
   ]
  },
  {
   "cell_type": "markdown",
   "id": "283ad9b7",
   "metadata": {
    "papermill": {
     "duration": 0.01568,
     "end_time": "2023-08-25T08:05:03.335450",
     "exception": false,
     "start_time": "2023-08-25T08:05:03.319770",
     "status": "completed"
    },
    "tags": []
   },
   "source": [
    "# 1. Importing Dataset"
   ]
  },
  {
   "cell_type": "code",
   "execution_count": 3,
   "id": "3b633f8e",
   "metadata": {
    "execution": {
     "iopub.execute_input": "2023-08-25T08:05:03.369934Z",
     "iopub.status.busy": "2023-08-25T08:05:03.368158Z",
     "iopub.status.idle": "2023-08-25T08:05:33.574781Z",
     "shell.execute_reply": "2023-08-25T08:05:33.573756Z"
    },
    "papermill": {
     "duration": 30.240545,
     "end_time": "2023-08-25T08:05:33.591885",
     "exception": false,
     "start_time": "2023-08-25T08:05:03.351340",
     "status": "completed"
    },
    "tags": []
   },
   "outputs": [
    {
     "data": {
      "text/html": [
       "<div>\n",
       "<style scoped>\n",
       "    .dataframe tbody tr th:only-of-type {\n",
       "        vertical-align: middle;\n",
       "    }\n",
       "\n",
       "    .dataframe tbody tr th {\n",
       "        vertical-align: top;\n",
       "    }\n",
       "\n",
       "    .dataframe thead th {\n",
       "        text-align: right;\n",
       "    }\n",
       "</style>\n",
       "<table border=\"1\" class=\"dataframe\">\n",
       "  <thead>\n",
       "    <tr style=\"text-align: right;\">\n",
       "      <th></th>\n",
       "      <th>CustomerID</th>\n",
       "      <th>Name</th>\n",
       "      <th>Age</th>\n",
       "      <th>Gender</th>\n",
       "      <th>Location</th>\n",
       "      <th>Subscription_Length_Months</th>\n",
       "      <th>Monthly_Bill</th>\n",
       "      <th>Total_Usage_GB</th>\n",
       "      <th>Churn</th>\n",
       "    </tr>\n",
       "  </thead>\n",
       "  <tbody>\n",
       "    <tr>\n",
       "      <th>0</th>\n",
       "      <td>1</td>\n",
       "      <td>Customer_1</td>\n",
       "      <td>63</td>\n",
       "      <td>Male</td>\n",
       "      <td>Los Angeles</td>\n",
       "      <td>17</td>\n",
       "      <td>73.36</td>\n",
       "      <td>236</td>\n",
       "      <td>0</td>\n",
       "    </tr>\n",
       "    <tr>\n",
       "      <th>1</th>\n",
       "      <td>2</td>\n",
       "      <td>Customer_2</td>\n",
       "      <td>62</td>\n",
       "      <td>Female</td>\n",
       "      <td>New York</td>\n",
       "      <td>1</td>\n",
       "      <td>48.76</td>\n",
       "      <td>172</td>\n",
       "      <td>0</td>\n",
       "    </tr>\n",
       "    <tr>\n",
       "      <th>2</th>\n",
       "      <td>3</td>\n",
       "      <td>Customer_3</td>\n",
       "      <td>24</td>\n",
       "      <td>Female</td>\n",
       "      <td>Los Angeles</td>\n",
       "      <td>5</td>\n",
       "      <td>85.47</td>\n",
       "      <td>460</td>\n",
       "      <td>0</td>\n",
       "    </tr>\n",
       "    <tr>\n",
       "      <th>3</th>\n",
       "      <td>4</td>\n",
       "      <td>Customer_4</td>\n",
       "      <td>36</td>\n",
       "      <td>Female</td>\n",
       "      <td>Miami</td>\n",
       "      <td>3</td>\n",
       "      <td>97.94</td>\n",
       "      <td>297</td>\n",
       "      <td>1</td>\n",
       "    </tr>\n",
       "    <tr>\n",
       "      <th>4</th>\n",
       "      <td>5</td>\n",
       "      <td>Customer_5</td>\n",
       "      <td>46</td>\n",
       "      <td>Female</td>\n",
       "      <td>Miami</td>\n",
       "      <td>19</td>\n",
       "      <td>58.14</td>\n",
       "      <td>266</td>\n",
       "      <td>0</td>\n",
       "    </tr>\n",
       "  </tbody>\n",
       "</table>\n",
       "</div>"
      ],
      "text/plain": [
       "   CustomerID        Name  Age  Gender     Location  \\\n",
       "0           1  Customer_1   63    Male  Los Angeles   \n",
       "1           2  Customer_2   62  Female     New York   \n",
       "2           3  Customer_3   24  Female  Los Angeles   \n",
       "3           4  Customer_4   36  Female        Miami   \n",
       "4           5  Customer_5   46  Female        Miami   \n",
       "\n",
       "   Subscription_Length_Months  Monthly_Bill  Total_Usage_GB  Churn  \n",
       "0                          17         73.36             236      0  \n",
       "1                           1         48.76             172      0  \n",
       "2                           5         85.47             460      0  \n",
       "3                           3         97.94             297      1  \n",
       "4                          19         58.14             266      0  "
      ]
     },
     "execution_count": 3,
     "metadata": {},
     "output_type": "execute_result"
    }
   ],
   "source": [
    "data = pd.read_excel(\"/kaggle/input/customer-churn/customer_churn_large_dataset.xlsx\")\n",
    "data.head()"
   ]
  },
  {
   "cell_type": "code",
   "execution_count": 4,
   "id": "06e847cf",
   "metadata": {
    "execution": {
     "iopub.execute_input": "2023-08-25T08:05:33.626432Z",
     "iopub.status.busy": "2023-08-25T08:05:33.625095Z",
     "iopub.status.idle": "2023-08-25T08:05:33.632063Z",
     "shell.execute_reply": "2023-08-25T08:05:33.630982Z"
    },
    "papermill": {
     "duration": 0.026612,
     "end_time": "2023-08-25T08:05:33.634639",
     "exception": false,
     "start_time": "2023-08-25T08:05:33.608027",
     "status": "completed"
    },
    "tags": []
   },
   "outputs": [
    {
     "data": {
      "text/plain": [
       "(100000, 9)"
      ]
     },
     "execution_count": 4,
     "metadata": {},
     "output_type": "execute_result"
    }
   ],
   "source": [
    "data.shape"
   ]
  },
  {
   "cell_type": "markdown",
   "id": "6ec746b0",
   "metadata": {
    "papermill": {
     "duration": 0.016008,
     "end_time": "2023-08-25T08:05:33.667123",
     "exception": false,
     "start_time": "2023-08-25T08:05:33.651115",
     "status": "completed"
    },
    "tags": []
   },
   "source": [
    "* Dropping unwanted columns"
   ]
  },
  {
   "cell_type": "code",
   "execution_count": 5,
   "id": "faad9e90",
   "metadata": {
    "execution": {
     "iopub.execute_input": "2023-08-25T08:05:33.700978Z",
     "iopub.status.busy": "2023-08-25T08:05:33.700641Z",
     "iopub.status.idle": "2023-08-25T08:05:33.709896Z",
     "shell.execute_reply": "2023-08-25T08:05:33.709003Z"
    },
    "papermill": {
     "duration": 0.028524,
     "end_time": "2023-08-25T08:05:33.711857",
     "exception": false,
     "start_time": "2023-08-25T08:05:33.683333",
     "status": "completed"
    },
    "tags": []
   },
   "outputs": [],
   "source": [
    "df = data.drop(['Name','CustomerID'],axis=1)"
   ]
  },
  {
   "cell_type": "markdown",
   "id": "6b74f413",
   "metadata": {
    "papermill": {
     "duration": 0.016068,
     "end_time": "2023-08-25T08:05:33.745369",
     "exception": false,
     "start_time": "2023-08-25T08:05:33.729301",
     "status": "completed"
    },
    "tags": []
   },
   "source": [
    "# Understanding the data\n",
    "The dataset contains customer attributes, and each row represents a customer. Let's take a look at the first few rows of the dataset:"
   ]
  },
  {
   "cell_type": "code",
   "execution_count": 6,
   "id": "99edc5e8",
   "metadata": {
    "execution": {
     "iopub.execute_input": "2023-08-25T08:05:33.780263Z",
     "iopub.status.busy": "2023-08-25T08:05:33.778704Z",
     "iopub.status.idle": "2023-08-25T08:05:33.791430Z",
     "shell.execute_reply": "2023-08-25T08:05:33.790444Z"
    },
    "papermill": {
     "duration": 0.03183,
     "end_time": "2023-08-25T08:05:33.793382",
     "exception": false,
     "start_time": "2023-08-25T08:05:33.761552",
     "status": "completed"
    },
    "tags": []
   },
   "outputs": [
    {
     "data": {
      "text/html": [
       "<div>\n",
       "<style scoped>\n",
       "    .dataframe tbody tr th:only-of-type {\n",
       "        vertical-align: middle;\n",
       "    }\n",
       "\n",
       "    .dataframe tbody tr th {\n",
       "        vertical-align: top;\n",
       "    }\n",
       "\n",
       "    .dataframe thead th {\n",
       "        text-align: right;\n",
       "    }\n",
       "</style>\n",
       "<table border=\"1\" class=\"dataframe\">\n",
       "  <thead>\n",
       "    <tr style=\"text-align: right;\">\n",
       "      <th></th>\n",
       "      <th>Age</th>\n",
       "      <th>Gender</th>\n",
       "      <th>Location</th>\n",
       "      <th>Subscription_Length_Months</th>\n",
       "      <th>Monthly_Bill</th>\n",
       "      <th>Total_Usage_GB</th>\n",
       "      <th>Churn</th>\n",
       "    </tr>\n",
       "  </thead>\n",
       "  <tbody>\n",
       "    <tr>\n",
       "      <th>0</th>\n",
       "      <td>63</td>\n",
       "      <td>Male</td>\n",
       "      <td>Los Angeles</td>\n",
       "      <td>17</td>\n",
       "      <td>73.36</td>\n",
       "      <td>236</td>\n",
       "      <td>0</td>\n",
       "    </tr>\n",
       "    <tr>\n",
       "      <th>1</th>\n",
       "      <td>62</td>\n",
       "      <td>Female</td>\n",
       "      <td>New York</td>\n",
       "      <td>1</td>\n",
       "      <td>48.76</td>\n",
       "      <td>172</td>\n",
       "      <td>0</td>\n",
       "    </tr>\n",
       "    <tr>\n",
       "      <th>2</th>\n",
       "      <td>24</td>\n",
       "      <td>Female</td>\n",
       "      <td>Los Angeles</td>\n",
       "      <td>5</td>\n",
       "      <td>85.47</td>\n",
       "      <td>460</td>\n",
       "      <td>0</td>\n",
       "    </tr>\n",
       "    <tr>\n",
       "      <th>3</th>\n",
       "      <td>36</td>\n",
       "      <td>Female</td>\n",
       "      <td>Miami</td>\n",
       "      <td>3</td>\n",
       "      <td>97.94</td>\n",
       "      <td>297</td>\n",
       "      <td>1</td>\n",
       "    </tr>\n",
       "    <tr>\n",
       "      <th>4</th>\n",
       "      <td>46</td>\n",
       "      <td>Female</td>\n",
       "      <td>Miami</td>\n",
       "      <td>19</td>\n",
       "      <td>58.14</td>\n",
       "      <td>266</td>\n",
       "      <td>0</td>\n",
       "    </tr>\n",
       "  </tbody>\n",
       "</table>\n",
       "</div>"
      ],
      "text/plain": [
       "   Age  Gender     Location  Subscription_Length_Months  Monthly_Bill  \\\n",
       "0   63    Male  Los Angeles                          17         73.36   \n",
       "1   62  Female     New York                           1         48.76   \n",
       "2   24  Female  Los Angeles                           5         85.47   \n",
       "3   36  Female        Miami                           3         97.94   \n",
       "4   46  Female        Miami                          19         58.14   \n",
       "\n",
       "   Total_Usage_GB  Churn  \n",
       "0             236      0  \n",
       "1             172      0  \n",
       "2             460      0  \n",
       "3             297      1  \n",
       "4             266      0  "
      ]
     },
     "execution_count": 6,
     "metadata": {},
     "output_type": "execute_result"
    }
   ],
   "source": [
    "df.head()"
   ]
  },
  {
   "cell_type": "code",
   "execution_count": 7,
   "id": "f58eb7d3",
   "metadata": {
    "execution": {
     "iopub.execute_input": "2023-08-25T08:05:33.830703Z",
     "iopub.status.busy": "2023-08-25T08:05:33.829868Z",
     "iopub.status.idle": "2023-08-25T08:05:33.922150Z",
     "shell.execute_reply": "2023-08-25T08:05:33.921240Z"
    },
    "papermill": {
     "duration": 0.113868,
     "end_time": "2023-08-25T08:05:33.924259",
     "exception": false,
     "start_time": "2023-08-25T08:05:33.810391",
     "status": "completed"
    },
    "tags": []
   },
   "outputs": [],
   "source": [
    "# Calculate churn rate, duplicates, and missing values\n",
    "\n",
    "# number of churn and non-churn \n",
    "count = df.Churn.value_counts()\n",
    "percentage_churn = (count[1] / (count[0] + count[1])) * 100\n",
    "\n",
    "# duplicates \n",
    "duplicates = len(df[df.duplicated()])\n",
    "\n",
    "# missing values\n",
    "missing_values = df.isnull().sum().sum()\n",
    "\n",
    "# Data types in dataset\n",
    "types = df.dtypes.value_counts()"
   ]
  },
  {
   "cell_type": "code",
   "execution_count": 8,
   "id": "5a7001e3",
   "metadata": {
    "execution": {
     "iopub.execute_input": "2023-08-25T08:05:33.959566Z",
     "iopub.status.busy": "2023-08-25T08:05:33.958759Z",
     "iopub.status.idle": "2023-08-25T08:05:33.965779Z",
     "shell.execute_reply": "2023-08-25T08:05:33.964687Z"
    },
    "papermill": {
     "duration": 0.026683,
     "end_time": "2023-08-25T08:05:33.967793",
     "exception": false,
     "start_time": "2023-08-25T08:05:33.941110",
     "status": "completed"
    },
    "tags": []
   },
   "outputs": [
    {
     "name": "stdout",
     "output_type": "stream",
     "text": [
      "Churn Rate = 49.8 %\n",
      "Number of Duplicate Entries: 0\n",
      "Number of Missing Values: 0\n",
      "Number of Features: 7\n",
      "Number of Customers: 100000\n",
      "Data Types and Frequency in Dataset:\n",
      "int64      4\n",
      "object     2\n",
      "float64    1\n",
      "dtype: int64\n"
     ]
    }
   ],
   "source": [
    "print(\"Churn Rate = %.1f %%\"%(percentage_churn))\n",
    "print('Number of Duplicate Entries: %d'%(duplicates))\n",
    "print('Number of Missing Values: %d'%(missing_values))\n",
    "print('Number of Features: %d'%(df.shape[1]))\n",
    "print('Number of Customers: %d'%(df.shape[0]))\n",
    "print('Data Types and Frequency in Dataset:')\n",
    "print(types)"
   ]
  },
  {
   "cell_type": "markdown",
   "id": "84227170",
   "metadata": {
    "papermill": {
     "duration": 0.016366,
     "end_time": "2023-08-25T08:05:34.000846",
     "exception": false,
     "start_time": "2023-08-25T08:05:33.984480",
     "status": "completed"
    },
    "tags": []
   },
   "source": [
    "# 2. Data Manipulation and Visualization\n",
    "In this section, we'll explore the dataset and visualize the data to gain insights."
   ]
  },
  {
   "cell_type": "code",
   "execution_count": 9,
   "id": "b4e1a063",
   "metadata": {
    "execution": {
     "iopub.execute_input": "2023-08-25T08:05:34.035953Z",
     "iopub.status.busy": "2023-08-25T08:05:34.035070Z",
     "iopub.status.idle": "2023-08-25T08:05:34.101239Z",
     "shell.execute_reply": "2023-08-25T08:05:34.100220Z"
    },
    "papermill": {
     "duration": 0.085895,
     "end_time": "2023-08-25T08:05:34.103368",
     "exception": false,
     "start_time": "2023-08-25T08:05:34.017473",
     "status": "completed"
    },
    "tags": []
   },
   "outputs": [
    {
     "name": "stdout",
     "output_type": "stream",
     "text": [
      "<class 'pandas.core.frame.DataFrame'>\n",
      "RangeIndex: 100000 entries, 0 to 99999\n",
      "Data columns (total 7 columns):\n",
      " #   Column                      Non-Null Count   Dtype  \n",
      "---  ------                      --------------   -----  \n",
      " 0   Age                         100000 non-null  int64  \n",
      " 1   Gender                      100000 non-null  object \n",
      " 2   Location                    100000 non-null  object \n",
      " 3   Subscription_Length_Months  100000 non-null  int64  \n",
      " 4   Monthly_Bill                100000 non-null  float64\n",
      " 5   Total_Usage_GB              100000 non-null  int64  \n",
      " 6   Churn                       100000 non-null  int64  \n",
      "dtypes: float64(1), int64(4), object(2)\n",
      "memory usage: 5.3+ MB\n"
     ]
    }
   ],
   "source": [
    "df.info()"
   ]
  },
  {
   "cell_type": "code",
   "execution_count": 10,
   "id": "4cb30e73",
   "metadata": {
    "execution": {
     "iopub.execute_input": "2023-08-25T08:05:34.139487Z",
     "iopub.status.busy": "2023-08-25T08:05:34.137860Z",
     "iopub.status.idle": "2023-08-25T08:05:35.429927Z",
     "shell.execute_reply": "2023-08-25T08:05:35.428959Z"
    },
    "papermill": {
     "duration": 1.311892,
     "end_time": "2023-08-25T08:05:35.432130",
     "exception": false,
     "start_time": "2023-08-25T08:05:34.120238",
     "status": "completed"
    },
    "tags": []
   },
   "outputs": [
    {
     "data": {
      "text/plain": [
       "<Axes: >"
      ]
     },
     "execution_count": 10,
     "metadata": {},
     "output_type": "execute_result"
    },
    {
     "data": {
      "image/png": "[encoded data removed]",
      "text/plain": [
       "<Figure size 2500x1000 with 3 Axes>"
      ]
     },
     "metadata": {},
     "output_type": "display_data"
    }
   ],
   "source": [
    "msno.bar(df)"
   ]
  },
  {
   "cell_type": "code",
   "execution_count": 11,
   "id": "ff914f04",
   "metadata": {
    "execution": {
     "iopub.execute_input": "2023-08-25T08:05:35.470340Z",
     "iopub.status.busy": "2023-08-25T08:05:35.470029Z",
     "iopub.status.idle": "2023-08-25T08:05:35.535340Z",
     "shell.execute_reply": "2023-08-25T08:05:35.534344Z"
    },
    "papermill": {
     "duration": 0.086904,
     "end_time": "2023-08-25T08:05:35.537711",
     "exception": false,
     "start_time": "2023-08-25T08:05:35.450807",
     "status": "completed"
    },
    "tags": []
   },
   "outputs": [
    {
     "data": {
      "text/plain": [
       "Age                           0\n",
       "Gender                        0\n",
       "Location                      0\n",
       "Subscription_Length_Months    0\n",
       "Monthly_Bill                  0\n",
       "Total_Usage_GB                0\n",
       "Churn                         0\n",
       "dtype: int64"
      ]
     },
     "execution_count": 11,
     "metadata": {},
     "output_type": "execute_result"
    }
   ],
   "source": [
    "df.isnull().sum()\n",
    "# No null values"
   ]
  },
  {
   "cell_type": "code",
   "execution_count": 12,
   "id": "0dc9ea6c",
   "metadata": {
    "execution": {
     "iopub.execute_input": "2023-08-25T08:05:35.577217Z",
     "iopub.status.busy": "2023-08-25T08:05:35.576916Z",
     "iopub.status.idle": "2023-08-25T08:05:35.608789Z",
     "shell.execute_reply": "2023-08-25T08:05:35.607715Z"
    },
    "papermill": {
     "duration": 0.053916,
     "end_time": "2023-08-25T08:05:35.610952",
     "exception": false,
     "start_time": "2023-08-25T08:05:35.557036",
     "status": "completed"
    },
    "tags": []
   },
   "outputs": [
    {
     "data": {
      "text/plain": [
       "0"
      ]
     },
     "execution_count": 12,
     "metadata": {},
     "output_type": "execute_result"
    }
   ],
   "source": [
    "df.duplicated().sum()\n",
    "# No duplicate values"
   ]
  },
  {
   "cell_type": "code",
   "execution_count": 13,
   "id": "da5e30ac",
   "metadata": {
    "execution": {
     "iopub.execute_input": "2023-08-25T08:05:35.649596Z",
     "iopub.status.busy": "2023-08-25T08:05:35.649110Z",
     "iopub.status.idle": "2023-08-25T08:05:36.243902Z",
     "shell.execute_reply": "2023-08-25T08:05:36.242927Z"
    },
    "papermill": {
     "duration": 0.616874,
     "end_time": "2023-08-25T08:05:36.246387",
     "exception": false,
     "start_time": "2023-08-25T08:05:35.629513",
     "status": "completed"
    },
    "tags": []
   },
   "outputs": [],
   "source": [
    "import plotly.express as px"
   ]
  },
  {
   "cell_type": "code",
   "execution_count": 14,
   "id": "ef230011",
   "metadata": {
    "execution": {
     "iopub.execute_input": "2023-08-25T08:05:36.286745Z",
     "iopub.status.busy": "2023-08-25T08:05:36.285804Z",
     "iopub.status.idle": "2023-08-25T08:05:36.326439Z",
     "shell.execute_reply": "2023-08-25T08:05:36.325265Z"
    },
    "papermill": {
     "duration": 0.063604,
     "end_time": "2023-08-25T08:05:36.329263",
     "exception": false,
     "start_time": "2023-08-25T08:05:36.265659",
     "status": "completed"
    },
    "tags": []
   },
   "outputs": [
    {
     "data": {
      "text/html": [
       "<div>\n",
       "<style scoped>\n",
       "    .dataframe tbody tr th:only-of-type {\n",
       "        vertical-align: middle;\n",
       "    }\n",
       "\n",
       "    .dataframe tbody tr th {\n",
       "        vertical-align: top;\n",
       "    }\n",
       "\n",
       "    .dataframe thead th {\n",
       "        text-align: right;\n",
       "    }\n",
       "</style>\n",
       "<table border=\"1\" class=\"dataframe\">\n",
       "  <thead>\n",
       "    <tr style=\"text-align: right;\">\n",
       "      <th></th>\n",
       "      <th>Gender</th>\n",
       "      <th>Location</th>\n",
       "      <th>Age</th>\n",
       "      <th>Subscription_Length_Months</th>\n",
       "      <th>Monthly_Bill</th>\n",
       "      <th>Total_Usage_GB</th>\n",
       "      <th>Churn</th>\n",
       "    </tr>\n",
       "  </thead>\n",
       "  <tbody>\n",
       "    <tr>\n",
       "      <th>0</th>\n",
       "      <td>Female</td>\n",
       "      <td>Chicago</td>\n",
       "      <td>442706</td>\n",
       "      <td>125364</td>\n",
       "      <td>651190.71</td>\n",
       "      <td>2759402</td>\n",
       "      <td>4997</td>\n",
       "    </tr>\n",
       "    <tr>\n",
       "      <th>1</th>\n",
       "      <td>Female</td>\n",
       "      <td>Houston</td>\n",
       "      <td>441432</td>\n",
       "      <td>124460</td>\n",
       "      <td>651881.80</td>\n",
       "      <td>2719040</td>\n",
       "      <td>4918</td>\n",
       "    </tr>\n",
       "    <tr>\n",
       "      <th>2</th>\n",
       "      <td>Female</td>\n",
       "      <td>Los Angeles</td>\n",
       "      <td>440860</td>\n",
       "      <td>126221</td>\n",
       "      <td>655548.83</td>\n",
       "      <td>2780522</td>\n",
       "      <td>4928</td>\n",
       "    </tr>\n",
       "    <tr>\n",
       "      <th>3</th>\n",
       "      <td>Female</td>\n",
       "      <td>Miami</td>\n",
       "      <td>446317</td>\n",
       "      <td>126925</td>\n",
       "      <td>654205.87</td>\n",
       "      <td>2779637</td>\n",
       "      <td>5106</td>\n",
       "    </tr>\n",
       "    <tr>\n",
       "      <th>4</th>\n",
       "      <td>Female</td>\n",
       "      <td>New York</td>\n",
       "      <td>438910</td>\n",
       "      <td>124122</td>\n",
       "      <td>651619.36</td>\n",
       "      <td>2749388</td>\n",
       "      <td>4995</td>\n",
       "    </tr>\n",
       "  </tbody>\n",
       "</table>\n",
       "</div>"
      ],
      "text/plain": [
       "   Gender     Location     Age  Subscription_Length_Months  Monthly_Bill  \\\n",
       "0  Female      Chicago  442706                      125364     651190.71   \n",
       "1  Female      Houston  441432                      124460     651881.80   \n",
       "2  Female  Los Angeles  440860                      126221     655548.83   \n",
       "3  Female        Miami  446317                      126925     654205.87   \n",
       "4  Female     New York  438910                      124122     651619.36   \n",
       "\n",
       "   Total_Usage_GB  Churn  \n",
       "0         2759402   4997  \n",
       "1         2719040   4918  \n",
       "2         2780522   4928  \n",
       "3         2779637   5106  \n",
       "4         2749388   4995  "
      ]
     },
     "execution_count": 14,
     "metadata": {},
     "output_type": "execute_result"
    }
   ],
   "source": [
    "hierarchical_data = df.groupby(['Gender','Location']).sum().reset_index()\n",
    "hierarchical_data.head()"
   ]
  },
  {
   "cell_type": "code",
   "execution_count": 15,
   "id": "97e4eb2b",
   "metadata": {
    "execution": {
     "iopub.execute_input": "2023-08-25T08:05:36.369863Z",
     "iopub.status.busy": "2023-08-25T08:05:36.368971Z",
     "iopub.status.idle": "2023-08-25T08:05:37.666923Z",
     "shell.execute_reply": "2023-08-25T08:05:37.665999Z"
    },
    "papermill": {
     "duration": 1.319596,
     "end_time": "2023-08-25T08:05:37.668912",
     "exception": false,
     "start_time": "2023-08-25T08:05:36.349316",
     "status": "completed"
    },
    "tags": []
   },
   "outputs": [
    {
     "data": {
      "text/html": [
       "        <script type=\"text/javascript\">\n",
       "        window.PlotlyConfig = {MathJaxConfig: 'local'};\n",
       "        if (window.MathJax && window.MathJax.Hub && window.MathJax.Hub.Config) {window.MathJax.Hub.Config({SVG: {font: \"STIX-Web\"}});}\n",
       "        if (typeof require !== 'undefined') {\n",
       "        require.undef(\"plotly\");\n",
       "        requirejs.config({\n",
       "            paths: {\n",
       "                'plotly': ['https://cdn.plot.ly/plotly-2.24.1.min']\n",
       "            }\n",
       "        });\n",
       "        require(['plotly'], function(Plotly) {\n",
       "            window._Plotly = Plotly;\n",
       "        });\n",
       "        }\n",
       "        </script>\n",
       "        "
      ]
     },
     "metadata": {},
     "output_type": "display_data"
    },
    {
     "data": {
      "text/html": [
       "<div>                            <div id=\"170bd7dd-940b-4be6-9269-6d081fadd7f8\" class=\"plotly-graph-div\" style=\"height:525px; width:100%;\"></div>            <script type=\"text/javascript\">                require([\"plotly\"], function(Plotly) {                    window.PLOTLYENV=window.PLOTLYENV || {};                                    if (document.getElementById(\"170bd7dd-940b-4be6-9269-6d081fadd7f8\")) {                    Plotly.newPlot(                        \"170bd7dd-940b-4be6-9269-6d081fadd7f8\",                        [{\"branchvalues\":\"total\",\"domain\":{\"x\":[0.0,1.0],\"y\":[0.0,1.0]},\"hovertemplate\":\"labels=%{label}\\u003cbr\\u003eChurn=%{value}\\u003cbr\\u003eparent=%{parent}\\u003cbr\\u003eid=%{id}\\u003cextra\\u003e\\u003c\\u002fextra\\u003e\",\"ids\":[\"Chicago\\u002fFemale\",\"Houston\\u002fFemale\",\"Los Angeles\\u002fFemale\",\"Miami\\u002fFemale\",\"New York\\u002fFemale\",\"Chicago\\u002fMale\",\"Houston\\u002fMale\",\"Los Angeles\\u002fMale\",\"Miami\\u002fMale\",\"New York\\u002fMale\",\"Chicago\",\"Houston\",\"Los Angeles\",\"Miami\",\"New York\"],\"labels\":[\"Female\",\"Female\",\"Female\",\"Female\",\"Female\",\"Male\",\"Male\",\"Male\",\"Male\",\"Male\",\"Chicago\",\"Houston\",\"Los Angeles\",\"Miami\",\"New York\"],\"name\":\"\",\"parents\":[\"Chicago\",\"Houston\",\"Los Angeles\",\"Miami\",\"New York\",\"Chicago\",\"Houston\",\"Los Angeles\",\"Miami\",\"New York\",\"\",\"\",\"\",\"\",\"\"],\"values\":[4997,4918,4928,5106,4995,4948,4981,4952,4970,4984,9945,9899,9880,10076,9979],\"type\":\"sunburst\"}],                        {\"template\":{\"data\":{\"histogram2dcontour\":[{\"type\":\"histogram2dcontour\",\"colorbar\":{\"outlinewidth\":0,\"ticks\":\"\"},\"colorscale\":[[0.0,\"#0d0887\"],[0.1111111111111111,\"#46039f\"],[0.2222222222222222,\"#7201a8\"],[0.3333333333333333,\"#9c179e\"],[0.4444444444444444,\"#bd3786\"],[0.5555555555555556,\"#d8576b\"],[0.6666666666666666,\"#ed7953\"],[0.7777777777777778,\"#fb9f3a\"],[0.8888888888888888,\"#fdca26\"],[1.0,\"#f0f921\"]]}],\"choropleth\":[{\"type\":\"choropleth\",\"colorbar\":{\"outlinewidth\":0,\"ticks\":\"\"}}],\"histogram2d\":[{\"type\":\"histogram2d\",\"colorbar\":{\"outlinewidth\":0,\"ticks\":\"\"},\"colorscale\":[[0.0,\"#0d0887\"],[0.1111111111111111,\"#46039f\"],[0.2222222222222222,\"#7201a8\"],[0.3333333333333333,\"#9c179e\"],[0.4444444444444444,\"#bd3786\"],[0.5555555555555556,\"#d8576b\"],[0.6666666666666666,\"#ed7953\"],[0.7777777777777778,\"#fb9f3a\"],[0.8888888888888888,\"#fdca26\"],[1.0,\"#f0f921\"]]}],\"heatmap\":[{\"type\":\"heatmap\",\"colorbar\":{\"outlinewidth\":0,\"ticks\":\"\"},\"colorscale\":[[0.0,\"#0d0887\"],[0.1111111111111111,\"#46039f\"],[0.2222222222222222,\"#7201a8\"],[0.3333333333333333,\"#9c179e\"],[0.4444444444444444,\"#bd3786\"],[0.5555555555555556,\"#d8576b\"],[0.6666666666666666,\"#ed7953\"],[0.7777777777777778,\"#fb9f3a\"],[0.8888888888888888,\"#fdca26\"],[1.0,\"#f0f921\"]]}],\"heatmapgl\":[{\"type\":\"heatmapgl\",\"colorbar\":{\"outlinewidth\":0,\"ticks\":\"\"},\"colorscale\":[[0.0,\"#0d0887\"],[0.1111111111111111,\"#46039f\"],[0.2222222222222222,\"#7201a8\"],[0.3333333333333333,\"#9c179e\"],[0.4444444444444444,\"#bd3786\"],[0.5555555555555556,\"#d8576b\"],[0.6666666666666666,\"#ed7953\"],[0.7777777777777778,\"#fb9f3a\"],[0.8888888888888888,\"#fdca26\"],[1.0,\"#f0f921\"]]}],\"contourcarpet\":[{\"type\":\"contourcarpet\",\"colorbar\":{\"outlinewidth\":0,\"ticks\":\"\"}}],\"contour\":[{\"type\":\"contour\",\"colorbar\":{\"outlinewidth\":0,\"ticks\":\"\"},\"colorscale\":[[0.0,\"#0d0887\"],[0.1111111111111111,\"#46039f\"],[0.2222222222222222,\"#7201a8\"],[0.3333333333333333,\"#9c179e\"],[0.4444444444444444,\"#bd3786\"],[0.5555555555555556,\"#d8576b\"],[0.6666666666666666,\"#ed7953\"],[0.7777777777777778,\"#fb9f3a\"],[0.8888888888888888,\"#fdca26\"],[1.0,\"#f0f921\"]]}],\"surface\":[{\"type\":\"surface\",\"colorbar\":{\"outlinewidth\":0,\"ticks\":\"\"},\"colorscale\":[[0.0,\"#0d0887\"],[0.1111111111111111,\"#46039f\"],[0.2222222222222222,\"#7201a8\"],[0.3333333333333333,\"#9c179e\"],[0.4444444444444444,\"#bd3786\"],[0.5555555555555556,\"#d8576b\"],[0.6666666666666666,\"#ed7953\"],[0.7777777777777778,\"#fb9f3a\"],[0.8888888888888888,\"#fdca26\"],[1.0,\"#f0f921\"]]}],\"mesh3d\":[{\"type\":\"mesh3d\",\"colorbar\":{\"outlinewidth\":0,\"ticks\":\"\"}}],\"scatter\":[{\"fillpattern\":{\"fillmode\":\"overlay\",\"size\":10,\"solidity\":0.2},\"type\":\"scatter\"}],\"parcoords\":[{\"type\":\"parcoords\",\"line\":{\"colorbar\":{\"outlinewidth\":0,\"ticks\":\"\"}}}],\"scatterpolargl\":[{\"type\":\"scatterpolargl\",\"marker\":{\"colorbar\":{\"outlinewidth\":0,\"ticks\":\"\"}}}],\"bar\":[{\"error_x\":{\"color\":\"#2a3f5f\"},\"error_y\":{\"color\":\"#2a3f5f\"},\"marker\":{\"line\":{\"color\":\"#E5ECF6\",\"width\":0.5},\"pattern\":{\"fillmode\":\"overlay\",\"size\":10,\"solidity\":0.2}},\"type\":\"bar\"}],\"scattergeo\":[{\"type\":\"scattergeo\",\"marker\":{\"colorbar\":{\"outlinewidth\":0,\"ticks\":\"\"}}}],\"scatterpolar\":[{\"type\":\"scatterpolar\",\"marker\":{\"colorbar\":{\"outlinewidth\":0,\"ticks\":\"\"}}}],\"histogram\":[{\"marker\":{\"pattern\":{\"fillmode\":\"overlay\",\"size\":10,\"solidity\":0.2}},\"type\":\"histogram\"}],\"scattergl\":[{\"type\":\"scattergl\",\"marker\":{\"colorbar\":{\"outlinewidth\":0,\"ticks\":\"\"}}}],\"scatter3d\":[{\"type\":\"scatter3d\",\"line\":{\"colorbar\":{\"outlinewidth\":0,\"ticks\":\"\"}},\"marker\":{\"colorbar\":{\"outlinewidth\":0,\"ticks\":\"\"}}}],\"scattermapbox\":[{\"type\":\"scattermapbox\",\"marker\":{\"colorbar\":{\"outlinewidth\":0,\"ticks\":\"\"}}}],\"scatterternary\":[{\"type\":\"scatterternary\",\"marker\":{\"colorbar\":{\"outlinewidth\":0,\"ticks\":\"\"}}}],\"scattercarpet\":[{\"type\":\"scattercarpet\",\"marker\":{\"colorbar\":{\"outlinewidth\":0,\"ticks\":\"\"}}}],\"carpet\":[{\"aaxis\":{\"endlinecolor\":\"#2a3f5f\",\"gridcolor\":\"white\",\"linecolor\":\"white\",\"minorgridcolor\":\"white\",\"startlinecolor\":\"#2a3f5f\"},\"baxis\":{\"endlinecolor\":\"#2a3f5f\",\"gridcolor\":\"white\",\"linecolor\":\"white\",\"minorgridcolor\":\"white\",\"startlinecolor\":\"#2a3f5f\"},\"type\":\"carpet\"}],\"table\":[{\"cells\":{\"fill\":{\"color\":\"#EBF0F8\"},\"line\":{\"color\":\"white\"}},\"header\":{\"fill\":{\"color\":\"#C8D4E3\"},\"line\":{\"color\":\"white\"}},\"type\":\"table\"}],\"barpolar\":[{\"marker\":{\"line\":{\"color\":\"#E5ECF6\",\"width\":0.5},\"pattern\":{\"fillmode\":\"overlay\",\"size\":10,\"solidity\":0.2}},\"type\":\"barpolar\"}],\"pie\":[{\"automargin\":true,\"type\":\"pie\"}]},\"layout\":{\"autotypenumbers\":\"strict\",\"colorway\":[\"#636efa\",\"#EF553B\",\"#00cc96\",\"#ab63fa\",\"#FFA15A\",\"#19d3f3\",\"#FF6692\",\"#B6E880\",\"#FF97FF\",\"#FECB52\"],\"font\":{\"color\":\"#2a3f5f\"},\"hovermode\":\"closest\",\"hoverlabel\":{\"align\":\"left\"},\"paper_bgcolor\":\"white\",\"plot_bgcolor\":\"#E5ECF6\",\"polar\":{\"bgcolor\":\"#E5ECF6\",\"angularaxis\":{\"gridcolor\":\"white\",\"linecolor\":\"white\",\"ticks\":\"\"},\"radialaxis\":{\"gridcolor\":\"white\",\"linecolor\":\"white\",\"ticks\":\"\"}},\"ternary\":{\"bgcolor\":\"#E5ECF6\",\"aaxis\":{\"gridcolor\":\"white\",\"linecolor\":\"white\",\"ticks\":\"\"},\"baxis\":{\"gridcolor\":\"white\",\"linecolor\":\"white\",\"ticks\":\"\"},\"caxis\":{\"gridcolor\":\"white\",\"linecolor\":\"white\",\"ticks\":\"\"}},\"coloraxis\":{\"colorbar\":{\"outlinewidth\":0,\"ticks\":\"\"}},\"colorscale\":{\"sequential\":[[0.0,\"#0d0887\"],[0.1111111111111111,\"#46039f\"],[0.2222222222222222,\"#7201a8\"],[0.3333333333333333,\"#9c179e\"],[0.4444444444444444,\"#bd3786\"],[0.5555555555555556,\"#d8576b\"],[0.6666666666666666,\"#ed7953\"],[0.7777777777777778,\"#fb9f3a\"],[0.8888888888888888,\"#fdca26\"],[1.0,\"#f0f921\"]],\"sequentialminus\":[[0.0,\"#0d0887\"],[0.1111111111111111,\"#46039f\"],[0.2222222222222222,\"#7201a8\"],[0.3333333333333333,\"#9c179e\"],[0.4444444444444444,\"#bd3786\"],[0.5555555555555556,\"#d8576b\"],[0.6666666666666666,\"#ed7953\"],[0.7777777777777778,\"#fb9f3a\"],[0.8888888888888888,\"#fdca26\"],[1.0,\"#f0f921\"]],\"diverging\":[[0,\"#8e0152\"],[0.1,\"#c51b7d\"],[0.2,\"#de77ae\"],[0.3,\"#f1b6da\"],[0.4,\"#fde0ef\"],[0.5,\"#f7f7f7\"],[0.6,\"#e6f5d0\"],[0.7,\"#b8e186\"],[0.8,\"#7fbc41\"],[0.9,\"#4d9221\"],[1,\"#276419\"]]},\"xaxis\":{\"gridcolor\":\"white\",\"linecolor\":\"white\",\"ticks\":\"\",\"title\":{\"standoff\":15},\"zerolinecolor\":\"white\",\"automargin\":true,\"zerolinewidth\":2},\"yaxis\":{\"gridcolor\":\"white\",\"linecolor\":\"white\",\"ticks\":\"\",\"title\":{\"standoff\":15},\"zerolinecolor\":\"white\",\"automargin\":true,\"zerolinewidth\":2},\"scene\":{\"xaxis\":{\"backgroundcolor\":\"#E5ECF6\",\"gridcolor\":\"white\",\"linecolor\":\"white\",\"showbackground\":true,\"ticks\":\"\",\"zerolinecolor\":\"white\",\"gridwidth\":2},\"yaxis\":{\"backgroundcolor\":\"#E5ECF6\",\"gridcolor\":\"white\",\"linecolor\":\"white\",\"showbackground\":true,\"ticks\":\"\",\"zerolinecolor\":\"white\",\"gridwidth\":2},\"zaxis\":{\"backgroundcolor\":\"#E5ECF6\",\"gridcolor\":\"white\",\"linecolor\":\"white\",\"showbackground\":true,\"ticks\":\"\",\"zerolinecolor\":\"white\",\"gridwidth\":2}},\"shapedefaults\":{\"line\":{\"color\":\"#2a3f5f\"}},\"annotationdefaults\":{\"arrowcolor\":\"#2a3f5f\",\"arrowhead\":0,\"arrowwidth\":1},\"geo\":{\"bgcolor\":\"white\",\"landcolor\":\"#E5ECF6\",\"subunitcolor\":\"white\",\"showland\":true,\"showlakes\":true,\"lakecolor\":\"white\"},\"title\":{\"x\":0.05},\"mapbox\":{\"style\":\"light\"}}},\"legend\":{\"tracegroupgap\":0},\"title\":{\"text\":\"Data Distribution\"}},                        {\"responsive\": true}                    ).then(function(){\n",
       "                            \n",
       "var gd = document.getElementById('170bd7dd-940b-4be6-9269-6d081fadd7f8');\n",
       "var x = new MutationObserver(function (mutations, observer) {{\n",
       "        var display = window.getComputedStyle(gd).display;\n",
       "        if (!display || display === 'none') {{\n",
       "            console.log([gd, 'removed!']);\n",
       "            Plotly.purge(gd);\n",
       "            observer.disconnect();\n",
       "        }}\n",
       "}});\n",
       "\n",
       "// Listen for the removal of the full notebook cells\n",
       "var notebookContainer = gd.closest('#notebook-container');\n",
       "if (notebookContainer) {{\n",
       "    x.observe(notebookContainer, {childList: true});\n",
       "}}\n",
       "\n",
       "// Listen for the clearing of the current output cell\n",
       "var outputEl = gd.closest('.output');\n",
       "if (outputEl) {{\n",
       "    x.observe(outputEl, {childList: true});\n",
       "}}\n",
       "\n",
       "                        })                };                });            </script>        </div>"
      ]
     },
     "metadata": {},
     "output_type": "display_data"
    }
   ],
   "source": [
    "fig_circle_packing = px.sunburst(\n",
    "    hierarchical_data,\n",
    "    path=['Location','Gender'],\n",
    "    values='Churn',\n",
    "    title='Data Distribution'\n",
    ")\n",
    "\n",
    "fig_circle_packing.show()"
   ]
  },
  {
   "cell_type": "code",
   "execution_count": 16,
   "id": "e26cc80b",
   "metadata": {
    "execution": {
     "iopub.execute_input": "2023-08-25T08:05:37.708897Z",
     "iopub.status.busy": "2023-08-25T08:05:37.708575Z",
     "iopub.status.idle": "2023-08-25T08:05:37.781613Z",
     "shell.execute_reply": "2023-08-25T08:05:37.780738Z"
    },
    "papermill": {
     "duration": 0.095258,
     "end_time": "2023-08-25T08:05:37.783817",
     "exception": false,
     "start_time": "2023-08-25T08:05:37.688559",
     "status": "completed"
    },
    "tags": []
   },
   "outputs": [
    {
     "data": {
      "text/html": [
       "<div>                            <div id=\"21c6cea6-c98f-43a4-ade5-774854547c4a\" class=\"plotly-graph-div\" style=\"height:525px; width:100%;\"></div>            <script type=\"text/javascript\">                require([\"plotly\"], function(Plotly) {                    window.PLOTLYENV=window.PLOTLYENV || {};                                    if (document.getElementById(\"21c6cea6-c98f-43a4-ade5-774854547c4a\")) {                    Plotly.newPlot(                        \"21c6cea6-c98f-43a4-ade5-774854547c4a\",                        [{\"domain\":{\"x\":[0.0,1.0],\"y\":[0.0,1.0]},\"hovertemplate\":\"index=%{label}\\u003cbr\\u003evalue=%{value}\\u003cextra\\u003e\\u003c\\u002fextra\\u003e\",\"labels\":[0,1],\"legendgroup\":\"\",\"name\":\"\",\"showlegend\":true,\"values\":[50221,49779],\"type\":\"pie\"}],                        {\"template\":{\"data\":{\"histogram2dcontour\":[{\"type\":\"histogram2dcontour\",\"colorbar\":{\"outlinewidth\":0,\"ticks\":\"\"},\"colorscale\":[[0.0,\"#0d0887\"],[0.1111111111111111,\"#46039f\"],[0.2222222222222222,\"#7201a8\"],[0.3333333333333333,\"#9c179e\"],[0.4444444444444444,\"#bd3786\"],[0.5555555555555556,\"#d8576b\"],[0.6666666666666666,\"#ed7953\"],[0.7777777777777778,\"#fb9f3a\"],[0.8888888888888888,\"#fdca26\"],[1.0,\"#f0f921\"]]}],\"choropleth\":[{\"type\":\"choropleth\",\"colorbar\":{\"outlinewidth\":0,\"ticks\":\"\"}}],\"histogram2d\":[{\"type\":\"histogram2d\",\"colorbar\":{\"outlinewidth\":0,\"ticks\":\"\"},\"colorscale\":[[0.0,\"#0d0887\"],[0.1111111111111111,\"#46039f\"],[0.2222222222222222,\"#7201a8\"],[0.3333333333333333,\"#9c179e\"],[0.4444444444444444,\"#bd3786\"],[0.5555555555555556,\"#d8576b\"],[0.6666666666666666,\"#ed7953\"],[0.7777777777777778,\"#fb9f3a\"],[0.8888888888888888,\"#fdca26\"],[1.0,\"#f0f921\"]]}],\"heatmap\":[{\"type\":\"heatmap\",\"colorbar\":{\"outlinewidth\":0,\"ticks\":\"\"},\"colorscale\":[[0.0,\"#0d0887\"],[0.1111111111111111,\"#46039f\"],[0.2222222222222222,\"#7201a8\"],[0.3333333333333333,\"#9c179e\"],[0.4444444444444444,\"#bd3786\"],[0.5555555555555556,\"#d8576b\"],[0.6666666666666666,\"#ed7953\"],[0.7777777777777778,\"#fb9f3a\"],[0.8888888888888888,\"#fdca26\"],[1.0,\"#f0f921\"]]}],\"heatmapgl\":[{\"type\":\"heatmapgl\",\"colorbar\":{\"outlinewidth\":0,\"ticks\":\"\"},\"colorscale\":[[0.0,\"#0d0887\"],[0.1111111111111111,\"#46039f\"],[0.2222222222222222,\"#7201a8\"],[0.3333333333333333,\"#9c179e\"],[0.4444444444444444,\"#bd3786\"],[0.5555555555555556,\"#d8576b\"],[0.6666666666666666,\"#ed7953\"],[0.7777777777777778,\"#fb9f3a\"],[0.8888888888888888,\"#fdca26\"],[1.0,\"#f0f921\"]]}],\"contourcarpet\":[{\"type\":\"contourcarpet\",\"colorbar\":{\"outlinewidth\":0,\"ticks\":\"\"}}],\"contour\":[{\"type\":\"contour\",\"colorbar\":{\"outlinewidth\":0,\"ticks\":\"\"},\"colorscale\":[[0.0,\"#0d0887\"],[0.1111111111111111,\"#46039f\"],[0.2222222222222222,\"#7201a8\"],[0.3333333333333333,\"#9c179e\"],[0.4444444444444444,\"#bd3786\"],[0.5555555555555556,\"#d8576b\"],[0.6666666666666666,\"#ed7953\"],[0.7777777777777778,\"#fb9f3a\"],[0.8888888888888888,\"#fdca26\"],[1.0,\"#f0f921\"]]}],\"surface\":[{\"type\":\"surface\",\"colorbar\":{\"outlinewidth\":0,\"ticks\":\"\"},\"colorscale\":[[0.0,\"#0d0887\"],[0.1111111111111111,\"#46039f\"],[0.2222222222222222,\"#7201a8\"],[0.3333333333333333,\"#9c179e\"],[0.4444444444444444,\"#bd3786\"],[0.5555555555555556,\"#d8576b\"],[0.6666666666666666,\"#ed7953\"],[0.7777777777777778,\"#fb9f3a\"],[0.8888888888888888,\"#fdca26\"],[1.0,\"#f0f921\"]]}],\"mesh3d\":[{\"type\":\"mesh3d\",\"colorbar\":{\"outlinewidth\":0,\"ticks\":\"\"}}],\"scatter\":[{\"fillpattern\":{\"fillmode\":\"overlay\",\"size\":10,\"solidity\":0.2},\"type\":\"scatter\"}],\"parcoords\":[{\"type\":\"parcoords\",\"line\":{\"colorbar\":{\"outlinewidth\":0,\"ticks\":\"\"}}}],\"scatterpolargl\":[{\"type\":\"scatterpolargl\",\"marker\":{\"colorbar\":{\"outlinewidth\":0,\"ticks\":\"\"}}}],\"bar\":[{\"error_x\":{\"color\":\"#2a3f5f\"},\"error_y\":{\"color\":\"#2a3f5f\"},\"marker\":{\"line\":{\"color\":\"#E5ECF6\",\"width\":0.5},\"pattern\":{\"fillmode\":\"overlay\",\"size\":10,\"solidity\":0.2}},\"type\":\"bar\"}],\"scattergeo\":[{\"type\":\"scattergeo\",\"marker\":{\"colorbar\":{\"outlinewidth\":0,\"ticks\":\"\"}}}],\"scatterpolar\":[{\"type\":\"scatterpolar\",\"marker\":{\"colorbar\":{\"outlinewidth\":0,\"ticks\":\"\"}}}],\"histogram\":[{\"marker\":{\"pattern\":{\"fillmode\":\"overlay\",\"size\":10,\"solidity\":0.2}},\"type\":\"histogram\"}],\"scattergl\":[{\"type\":\"scattergl\",\"marker\":{\"colorbar\":{\"outlinewidth\":0,\"ticks\":\"\"}}}],\"scatter3d\":[{\"type\":\"scatter3d\",\"line\":{\"colorbar\":{\"outlinewidth\":0,\"ticks\":\"\"}},\"marker\":{\"colorbar\":{\"outlinewidth\":0,\"ticks\":\"\"}}}],\"scattermapbox\":[{\"type\":\"scattermapbox\",\"marker\":{\"colorbar\":{\"outlinewidth\":0,\"ticks\":\"\"}}}],\"scatterternary\":[{\"type\":\"scatterternary\",\"marker\":{\"colorbar\":{\"outlinewidth\":0,\"ticks\":\"\"}}}],\"scattercarpet\":[{\"type\":\"scattercarpet\",\"marker\":{\"colorbar\":{\"outlinewidth\":0,\"ticks\":\"\"}}}],\"carpet\":[{\"aaxis\":{\"endlinecolor\":\"#2a3f5f\",\"gridcolor\":\"white\",\"linecolor\":\"white\",\"minorgridcolor\":\"white\",\"startlinecolor\":\"#2a3f5f\"},\"baxis\":{\"endlinecolor\":\"#2a3f5f\",\"gridcolor\":\"white\",\"linecolor\":\"white\",\"minorgridcolor\":\"white\",\"startlinecolor\":\"#2a3f5f\"},\"type\":\"carpet\"}],\"table\":[{\"cells\":{\"fill\":{\"color\":\"#EBF0F8\"},\"line\":{\"color\":\"white\"}},\"header\":{\"fill\":{\"color\":\"#C8D4E3\"},\"line\":{\"color\":\"white\"}},\"type\":\"table\"}],\"barpolar\":[{\"marker\":{\"line\":{\"color\":\"#E5ECF6\",\"width\":0.5},\"pattern\":{\"fillmode\":\"overlay\",\"size\":10,\"solidity\":0.2}},\"type\":\"barpolar\"}],\"pie\":[{\"automargin\":true,\"type\":\"pie\"}]},\"layout\":{\"autotypenumbers\":\"strict\",\"colorway\":[\"#636efa\",\"#EF553B\",\"#00cc96\",\"#ab63fa\",\"#FFA15A\",\"#19d3f3\",\"#FF6692\",\"#B6E880\",\"#FF97FF\",\"#FECB52\"],\"font\":{\"color\":\"#2a3f5f\"},\"hovermode\":\"closest\",\"hoverlabel\":{\"align\":\"left\"},\"paper_bgcolor\":\"white\",\"plot_bgcolor\":\"#E5ECF6\",\"polar\":{\"bgcolor\":\"#E5ECF6\",\"angularaxis\":{\"gridcolor\":\"white\",\"linecolor\":\"white\",\"ticks\":\"\"},\"radialaxis\":{\"gridcolor\":\"white\",\"linecolor\":\"white\",\"ticks\":\"\"}},\"ternary\":{\"bgcolor\":\"#E5ECF6\",\"aaxis\":{\"gridcolor\":\"white\",\"linecolor\":\"white\",\"ticks\":\"\"},\"baxis\":{\"gridcolor\":\"white\",\"linecolor\":\"white\",\"ticks\":\"\"},\"caxis\":{\"gridcolor\":\"white\",\"linecolor\":\"white\",\"ticks\":\"\"}},\"coloraxis\":{\"colorbar\":{\"outlinewidth\":0,\"ticks\":\"\"}},\"colorscale\":{\"sequential\":[[0.0,\"#0d0887\"],[0.1111111111111111,\"#46039f\"],[0.2222222222222222,\"#7201a8\"],[0.3333333333333333,\"#9c179e\"],[0.4444444444444444,\"#bd3786\"],[0.5555555555555556,\"#d8576b\"],[0.6666666666666666,\"#ed7953\"],[0.7777777777777778,\"#fb9f3a\"],[0.8888888888888888,\"#fdca26\"],[1.0,\"#f0f921\"]],\"sequentialminus\":[[0.0,\"#0d0887\"],[0.1111111111111111,\"#46039f\"],[0.2222222222222222,\"#7201a8\"],[0.3333333333333333,\"#9c179e\"],[0.4444444444444444,\"#bd3786\"],[0.5555555555555556,\"#d8576b\"],[0.6666666666666666,\"#ed7953\"],[0.7777777777777778,\"#fb9f3a\"],[0.8888888888888888,\"#fdca26\"],[1.0,\"#f0f921\"]],\"diverging\":[[0,\"#8e0152\"],[0.1,\"#c51b7d\"],[0.2,\"#de77ae\"],[0.3,\"#f1b6da\"],[0.4,\"#fde0ef\"],[0.5,\"#f7f7f7\"],[0.6,\"#e6f5d0\"],[0.7,\"#b8e186\"],[0.8,\"#7fbc41\"],[0.9,\"#4d9221\"],[1,\"#276419\"]]},\"xaxis\":{\"gridcolor\":\"white\",\"linecolor\":\"white\",\"ticks\":\"\",\"title\":{\"standoff\":15},\"zerolinecolor\":\"white\",\"automargin\":true,\"zerolinewidth\":2},\"yaxis\":{\"gridcolor\":\"white\",\"linecolor\":\"white\",\"ticks\":\"\",\"title\":{\"standoff\":15},\"zerolinecolor\":\"white\",\"automargin\":true,\"zerolinewidth\":2},\"scene\":{\"xaxis\":{\"backgroundcolor\":\"#E5ECF6\",\"gridcolor\":\"white\",\"linecolor\":\"white\",\"showbackground\":true,\"ticks\":\"\",\"zerolinecolor\":\"white\",\"gridwidth\":2},\"yaxis\":{\"backgroundcolor\":\"#E5ECF6\",\"gridcolor\":\"white\",\"linecolor\":\"white\",\"showbackground\":true,\"ticks\":\"\",\"zerolinecolor\":\"white\",\"gridwidth\":2},\"zaxis\":{\"backgroundcolor\":\"#E5ECF6\",\"gridcolor\":\"white\",\"linecolor\":\"white\",\"showbackground\":true,\"ticks\":\"\",\"zerolinecolor\":\"white\",\"gridwidth\":2}},\"shapedefaults\":{\"line\":{\"color\":\"#2a3f5f\"}},\"annotationdefaults\":{\"arrowcolor\":\"#2a3f5f\",\"arrowhead\":0,\"arrowwidth\":1},\"geo\":{\"bgcolor\":\"white\",\"landcolor\":\"#E5ECF6\",\"subunitcolor\":\"white\",\"showland\":true,\"showlakes\":true,\"lakecolor\":\"white\"},\"title\":{\"x\":0.05},\"mapbox\":{\"style\":\"light\"}}},\"legend\":{\"tracegroupgap\":0},\"title\":{\"text\":\"% Churn and Non-Churn\"},\"piecolorway\":[\"black\",\"red\"]},                        {\"responsive\": true}                    ).then(function(){\n",
       "                            \n",
       "var gd = document.getElementById('21c6cea6-c98f-43a4-ade5-774854547c4a');\n",
       "var x = new MutationObserver(function (mutations, observer) {{\n",
       "        var display = window.getComputedStyle(gd).display;\n",
       "        if (!display || display === 'none') {{\n",
       "            console.log([gd, 'removed!']);\n",
       "            Plotly.purge(gd);\n",
       "            observer.disconnect();\n",
       "        }}\n",
       "}});\n",
       "\n",
       "// Listen for the removal of the full notebook cells\n",
       "var notebookContainer = gd.closest('#notebook-container');\n",
       "if (notebookContainer) {{\n",
       "    x.observe(notebookContainer, {childList: true});\n",
       "}}\n",
       "\n",
       "// Listen for the clearing of the current output cell\n",
       "var outputEl = gd.closest('.output');\n",
       "if (outputEl) {{\n",
       "    x.observe(outputEl, {childList: true});\n",
       "}}\n",
       "\n",
       "                        })                };                });            </script>        </div>"
      ]
     },
     "metadata": {},
     "output_type": "display_data"
    },
    {
     "data": {
      "text/plain": [
       "<Figure size 1000x1000 with 0 Axes>"
      ]
     },
     "metadata": {},
     "output_type": "display_data"
    }
   ],
   "source": [
    "import plotly.express as px\n",
    "count = df['Churn'].value_counts()\n",
    "plt.figure(figsize = (5,5), dpi = 200)\n",
    "fig = px.pie(count , names = count.index, values = count.values, title = \n",
    "             '% Churn and Non-Churn', color_discrete_sequence=['black', 'red'])\n",
    "fig.show()\n",
    "# Data seems to be balanced, so we focus on accuracy than precision"
   ]
  },
  {
   "cell_type": "markdown",
   "id": "ee4123b0",
   "metadata": {
    "papermill": {
     "duration": 0.019143,
     "end_time": "2023-08-25T08:05:37.822888",
     "exception": false,
     "start_time": "2023-08-25T08:05:37.803745",
     "status": "completed"
    },
    "tags": []
   },
   "source": [
    "* Histogram"
   ]
  },
  {
   "cell_type": "code",
   "execution_count": 17,
   "id": "62c58ab5",
   "metadata": {
    "execution": {
     "iopub.execute_input": "2023-08-25T08:05:37.870167Z",
     "iopub.status.busy": "2023-08-25T08:05:37.869263Z",
     "iopub.status.idle": "2023-08-25T08:05:39.577917Z",
     "shell.execute_reply": "2023-08-25T08:05:39.576956Z"
    },
    "papermill": {
     "duration": 1.737258,
     "end_time": "2023-08-25T08:05:39.580294",
     "exception": false,
     "start_time": "2023-08-25T08:05:37.843036",
     "status": "completed"
    },
    "tags": []
   },
   "outputs": [
    {
     "data": {
      "image/png": "[encoded data removed]",
      "text/plain": [
       "<Figure size 640x480 with 1 Axes>"
      ]
     },
     "metadata": {},
     "output_type": "display_data"
    },
    {
     "data": {
      "image/png": "[encoded data removed]",
      "text/plain": [
       "<Figure size 640x480 with 1 Axes>"
      ]
     },
     "metadata": {},
     "output_type": "display_data"
    },
    {
     "data": {
      "image/png": "[encoded data removed]",
      "text/plain": [
       "<Figure size 640x480 with 1 Axes>"
      ]
     },
     "metadata": {},
     "output_type": "display_data"
    },
    {
     "data": {
      "image/png": "[encoded data removed]",
      "text/plain": [
       "<Figure size 640x480 with 1 Axes>"
      ]
     },
     "metadata": {},
     "output_type": "display_data"
    },
    {
     "data": {
      "image/png": "[encoded data removed]",
      "text/plain": [
       "<Figure size 640x480 with 1 Axes>"
      ]
     },
     "metadata": {},
     "output_type": "display_data"
    },
    {
     "data": {
      "image/png": "[encoded data removed]",
      "text/plain": [
       "<Figure size 640x480 with 1 Axes>"
      ]
     },
     "metadata": {},
     "output_type": "display_data"
    }
   ],
   "source": [
    "# Get the list of column names (excluding the target variable)\n",
    "features = df.columns.drop('Churn')\n",
    "\n",
    "# Create scatter plots for each feature against the target variable\n",
    "for feature in features:\n",
    "    plt.figure()\n",
    "    plt.hist(df[df['Churn'] == 0][feature], color='blue', alpha=0.5, label='Not Churn')\n",
    "    plt.hist(df[df['Churn'] == 1][feature], color='red', alpha=0.5, label='Churn')\n",
    "    plt.xlabel(feature)\n",
    "    plt.ylabel('Churn')\n",
    "    plt.title(f'Histogram: {feature} vs. Churn')\n",
    "\n",
    "# Display the plot\n",
    "plt.show()"
   ]
  },
  {
   "cell_type": "code",
   "execution_count": 18,
   "id": "a6db3f06",
   "metadata": {
    "execution": {
     "iopub.execute_input": "2023-08-25T08:05:39.627065Z",
     "iopub.status.busy": "2023-08-25T08:05:39.626484Z",
     "iopub.status.idle": "2023-08-25T08:05:39.631343Z",
     "shell.execute_reply": "2023-08-25T08:05:39.630475Z"
    },
    "papermill": {
     "duration": 0.029591,
     "end_time": "2023-08-25T08:05:39.633297",
     "exception": false,
     "start_time": "2023-08-25T08:05:39.603706",
     "status": "completed"
    },
    "tags": []
   },
   "outputs": [],
   "source": [
    "from scipy import stats"
   ]
  },
  {
   "cell_type": "code",
   "execution_count": 19,
   "id": "c0c4fdbe",
   "metadata": {
    "execution": {
     "iopub.execute_input": "2023-08-25T08:05:39.678610Z",
     "iopub.status.busy": "2023-08-25T08:05:39.677846Z",
     "iopub.status.idle": "2023-08-25T08:05:42.742197Z",
     "shell.execute_reply": "2023-08-25T08:05:42.741226Z"
    },
    "papermill": {
     "duration": 3.089281,
     "end_time": "2023-08-25T08:05:42.744497",
     "exception": false,
     "start_time": "2023-08-25T08:05:39.655216",
     "status": "completed"
    },
    "tags": []
   },
   "outputs": [
    {
     "data": {
      "image/png": "[encoded data removed]",
      "text/plain": [
       "<Figure size 1200x800 with 4 Axes>"
      ]
     },
     "metadata": {},
     "output_type": "display_data"
    }
   ],
   "source": [
    "# Visualize the distribution of numerical features\n",
    "numerical_features = ['Age', 'Subscription_Length_Months', 'Monthly_Bill', 'Total_Usage_GB']\n",
    "plt.figure(figsize=(12, 8))\n",
    "for i, feature in enumerate(numerical_features, 1):\n",
    "    plt.subplot(2, 2, i)\n",
    "    sns.histplot(df[feature], kde=True)\n",
    "    plt.title(f'Distribution of {feature}')\n",
    "    \n",
    "plt.tight_layout()\n",
    "plt.show()"
   ]
  },
  {
   "cell_type": "code",
   "execution_count": 20,
   "id": "04c51ca7",
   "metadata": {
    "execution": {
     "iopub.execute_input": "2023-08-25T08:05:42.793871Z",
     "iopub.status.busy": "2023-08-25T08:05:42.793147Z",
     "iopub.status.idle": "2023-08-25T08:05:42.816851Z",
     "shell.execute_reply": "2023-08-25T08:05:42.815553Z"
    },
    "papermill": {
     "duration": 0.050716,
     "end_time": "2023-08-25T08:05:42.818980",
     "exception": false,
     "start_time": "2023-08-25T08:05:42.768264",
     "status": "completed"
    },
    "tags": []
   },
   "outputs": [
    {
     "name": "stdout",
     "output_type": "stream",
     "text": [
      "Potential Outliers:\n"
     ]
    }
   ],
   "source": [
    "# Detect potential outliers using the IQR method\n",
    "outliers = {}\n",
    "for feature in numerical_features:\n",
    "    Q1 = np.percentile(df[feature], 25)\n",
    "    Q3 = np.percentile(df[feature], 75)\n",
    "    IQR = Q3 - Q1\n",
    "    lower_bound = Q1 - 1.5 * IQR\n",
    "    upper_bound = Q3 + 1.5 * IQR\n",
    "    \n",
    "    outliers[feature] = df[(df[feature] < lower_bound) | (df[feature] > upper_bound)]\n",
    "\n",
    "print(\"Potential Outliers:\")\n",
    "for feature, outlier_rows in outliers.items():\n",
    "    if not outlier_rows.empty:\n",
    "        print(f\"Feature: {feature}\")\n",
    "        print(outlier_rows)\n",
    "        print(\"-\" * 30)"
   ]
  },
  {
   "cell_type": "markdown",
   "id": "1fbce86a",
   "metadata": {
    "papermill": {
     "duration": 0.025525,
     "end_time": "2023-08-25T08:05:42.867791",
     "exception": false,
     "start_time": "2023-08-25T08:05:42.842266",
     "status": "completed"
    },
    "tags": []
   },
   "source": [
    "When considering whether to use MinMaxScaler or StandardScaler for our dataset, I observed that the mean of our features is relatively constant across different features. This suggests that our data is already centered around a similar value. In this scenario, both MinMaxScaler and StandardScaler could potentially yield similar results, as they both aim to center and scale the data.\n",
    "\n",
    "However, I opted to use StandardScaler because it scales the data based on the standard deviation. This aspect of StandardScaler can capture variations in the data that might not be immediately apparent from just looking at the mean. By considering the standard deviation, we can ensure that any underlying patterns or variations in the data are appropriately captured in the scaled features.\n",
    "\n",
    "In summary, while both MinMaxScaler and StandardScaler could have been suitable choices, I chose StandardScaler to ensure that our scaled features capture the full range of variations present in the data, even if the means were consistent."
   ]
  },
  {
   "cell_type": "markdown",
   "id": "902b37bf",
   "metadata": {
    "papermill": {
     "duration": 0.023032,
     "end_time": "2023-08-25T08:05:42.917673",
     "exception": false,
     "start_time": "2023-08-25T08:05:42.894641",
     "status": "completed"
    },
    "tags": []
   },
   "source": [
    "# 3. Data Preprocessing\n",
    "Before building machine learning models, we need to preprocess the data. This includes handling missing values, encoding categorical variables, and scaling numeric attributes."
   ]
  },
  {
   "cell_type": "code",
   "execution_count": 21,
   "id": "b3687566",
   "metadata": {
    "execution": {
     "iopub.execute_input": "2023-08-25T08:05:42.966083Z",
     "iopub.status.busy": "2023-08-25T08:05:42.965732Z",
     "iopub.status.idle": "2023-08-25T08:05:42.977859Z",
     "shell.execute_reply": "2023-08-25T08:05:42.976967Z"
    },
    "papermill": {
     "duration": 0.03885,
     "end_time": "2023-08-25T08:05:42.979867",
     "exception": false,
     "start_time": "2023-08-25T08:05:42.941017",
     "status": "completed"
    },
    "tags": []
   },
   "outputs": [
    {
     "data": {
      "text/html": [
       "<div>\n",
       "<style scoped>\n",
       "    .dataframe tbody tr th:only-of-type {\n",
       "        vertical-align: middle;\n",
       "    }\n",
       "\n",
       "    .dataframe tbody tr th {\n",
       "        vertical-align: top;\n",
       "    }\n",
       "\n",
       "    .dataframe thead th {\n",
       "        text-align: right;\n",
       "    }\n",
       "</style>\n",
       "<table border=\"1\" class=\"dataframe\">\n",
       "  <thead>\n",
       "    <tr style=\"text-align: right;\">\n",
       "      <th></th>\n",
       "      <th>Age</th>\n",
       "      <th>Gender</th>\n",
       "      <th>Location</th>\n",
       "      <th>Subscription_Length_Months</th>\n",
       "      <th>Monthly_Bill</th>\n",
       "      <th>Total_Usage_GB</th>\n",
       "      <th>Churn</th>\n",
       "    </tr>\n",
       "  </thead>\n",
       "  <tbody>\n",
       "    <tr>\n",
       "      <th>0</th>\n",
       "      <td>63</td>\n",
       "      <td>Male</td>\n",
       "      <td>Los Angeles</td>\n",
       "      <td>17</td>\n",
       "      <td>73.36</td>\n",
       "      <td>236</td>\n",
       "      <td>0</td>\n",
       "    </tr>\n",
       "    <tr>\n",
       "      <th>1</th>\n",
       "      <td>62</td>\n",
       "      <td>Female</td>\n",
       "      <td>New York</td>\n",
       "      <td>1</td>\n",
       "      <td>48.76</td>\n",
       "      <td>172</td>\n",
       "      <td>0</td>\n",
       "    </tr>\n",
       "    <tr>\n",
       "      <th>2</th>\n",
       "      <td>24</td>\n",
       "      <td>Female</td>\n",
       "      <td>Los Angeles</td>\n",
       "      <td>5</td>\n",
       "      <td>85.47</td>\n",
       "      <td>460</td>\n",
       "      <td>0</td>\n",
       "    </tr>\n",
       "    <tr>\n",
       "      <th>3</th>\n",
       "      <td>36</td>\n",
       "      <td>Female</td>\n",
       "      <td>Miami</td>\n",
       "      <td>3</td>\n",
       "      <td>97.94</td>\n",
       "      <td>297</td>\n",
       "      <td>1</td>\n",
       "    </tr>\n",
       "    <tr>\n",
       "      <th>4</th>\n",
       "      <td>46</td>\n",
       "      <td>Female</td>\n",
       "      <td>Miami</td>\n",
       "      <td>19</td>\n",
       "      <td>58.14</td>\n",
       "      <td>266</td>\n",
       "      <td>0</td>\n",
       "    </tr>\n",
       "  </tbody>\n",
       "</table>\n",
       "</div>"
      ],
      "text/plain": [
       "   Age  Gender     Location  Subscription_Length_Months  Monthly_Bill  \\\n",
       "0   63    Male  Los Angeles                          17         73.36   \n",
       "1   62  Female     New York                           1         48.76   \n",
       "2   24  Female  Los Angeles                           5         85.47   \n",
       "3   36  Female        Miami                           3         97.94   \n",
       "4   46  Female        Miami                          19         58.14   \n",
       "\n",
       "   Total_Usage_GB  Churn  \n",
       "0             236      0  \n",
       "1             172      0  \n",
       "2             460      0  \n",
       "3             297      1  \n",
       "4             266      0  "
      ]
     },
     "execution_count": 21,
     "metadata": {},
     "output_type": "execute_result"
    }
   ],
   "source": [
    "df.head()"
   ]
  },
  {
   "cell_type": "code",
   "execution_count": 22,
   "id": "75a62441",
   "metadata": {
    "execution": {
     "iopub.execute_input": "2023-08-25T08:05:43.029190Z",
     "iopub.status.busy": "2023-08-25T08:05:43.028313Z",
     "iopub.status.idle": "2023-08-25T08:05:43.035870Z",
     "shell.execute_reply": "2023-08-25T08:05:43.035003Z"
    },
    "papermill": {
     "duration": 0.034263,
     "end_time": "2023-08-25T08:05:43.038024",
     "exception": false,
     "start_time": "2023-08-25T08:05:43.003761",
     "status": "completed"
    },
    "tags": []
   },
   "outputs": [],
   "source": [
    "X0 = df.drop(['Churn'],axis=1)"
   ]
  },
  {
   "cell_type": "code",
   "execution_count": 23,
   "id": "80c8f333",
   "metadata": {
    "execution": {
     "iopub.execute_input": "2023-08-25T08:05:43.086485Z",
     "iopub.status.busy": "2023-08-25T08:05:43.085821Z",
     "iopub.status.idle": "2023-08-25T08:05:43.097074Z",
     "shell.execute_reply": "2023-08-25T08:05:43.095954Z"
    },
    "papermill": {
     "duration": 0.03774,
     "end_time": "2023-08-25T08:05:43.099141",
     "exception": false,
     "start_time": "2023-08-25T08:05:43.061401",
     "status": "completed"
    },
    "tags": []
   },
   "outputs": [
    {
     "data": {
      "text/html": [
       "<div>\n",
       "<style scoped>\n",
       "    .dataframe tbody tr th:only-of-type {\n",
       "        vertical-align: middle;\n",
       "    }\n",
       "\n",
       "    .dataframe tbody tr th {\n",
       "        vertical-align: top;\n",
       "    }\n",
       "\n",
       "    .dataframe thead th {\n",
       "        text-align: right;\n",
       "    }\n",
       "</style>\n",
       "<table border=\"1\" class=\"dataframe\">\n",
       "  <thead>\n",
       "    <tr style=\"text-align: right;\">\n",
       "      <th></th>\n",
       "      <th>Age</th>\n",
       "      <th>Gender</th>\n",
       "      <th>Location</th>\n",
       "      <th>Subscription_Length_Months</th>\n",
       "      <th>Monthly_Bill</th>\n",
       "      <th>Total_Usage_GB</th>\n",
       "    </tr>\n",
       "  </thead>\n",
       "  <tbody>\n",
       "    <tr>\n",
       "      <th>0</th>\n",
       "      <td>63</td>\n",
       "      <td>Male</td>\n",
       "      <td>Los Angeles</td>\n",
       "      <td>17</td>\n",
       "      <td>73.36</td>\n",
       "      <td>236</td>\n",
       "    </tr>\n",
       "    <tr>\n",
       "      <th>1</th>\n",
       "      <td>62</td>\n",
       "      <td>Female</td>\n",
       "      <td>New York</td>\n",
       "      <td>1</td>\n",
       "      <td>48.76</td>\n",
       "      <td>172</td>\n",
       "    </tr>\n",
       "    <tr>\n",
       "      <th>2</th>\n",
       "      <td>24</td>\n",
       "      <td>Female</td>\n",
       "      <td>Los Angeles</td>\n",
       "      <td>5</td>\n",
       "      <td>85.47</td>\n",
       "      <td>460</td>\n",
       "    </tr>\n",
       "    <tr>\n",
       "      <th>3</th>\n",
       "      <td>36</td>\n",
       "      <td>Female</td>\n",
       "      <td>Miami</td>\n",
       "      <td>3</td>\n",
       "      <td>97.94</td>\n",
       "      <td>297</td>\n",
       "    </tr>\n",
       "    <tr>\n",
       "      <th>4</th>\n",
       "      <td>46</td>\n",
       "      <td>Female</td>\n",
       "      <td>Miami</td>\n",
       "      <td>19</td>\n",
       "      <td>58.14</td>\n",
       "      <td>266</td>\n",
       "    </tr>\n",
       "  </tbody>\n",
       "</table>\n",
       "</div>"
      ],
      "text/plain": [
       "   Age  Gender     Location  Subscription_Length_Months  Monthly_Bill  \\\n",
       "0   63    Male  Los Angeles                          17         73.36   \n",
       "1   62  Female     New York                           1         48.76   \n",
       "2   24  Female  Los Angeles                           5         85.47   \n",
       "3   36  Female        Miami                           3         97.94   \n",
       "4   46  Female        Miami                          19         58.14   \n",
       "\n",
       "   Total_Usage_GB  \n",
       "0             236  \n",
       "1             172  \n",
       "2             460  \n",
       "3             297  \n",
       "4             266  "
      ]
     },
     "execution_count": 23,
     "metadata": {},
     "output_type": "execute_result"
    }
   ],
   "source": [
    "X0.head()"
   ]
  },
  {
   "cell_type": "code",
   "execution_count": 24,
   "id": "d74d4c24",
   "metadata": {
    "execution": {
     "iopub.execute_input": "2023-08-25T08:05:43.148067Z",
     "iopub.status.busy": "2023-08-25T08:05:43.147298Z",
     "iopub.status.idle": "2023-08-25T08:05:43.154393Z",
     "shell.execute_reply": "2023-08-25T08:05:43.153426Z"
    },
    "papermill": {
     "duration": 0.033592,
     "end_time": "2023-08-25T08:05:43.156352",
     "exception": false,
     "start_time": "2023-08-25T08:05:43.122760",
     "status": "completed"
    },
    "tags": []
   },
   "outputs": [
    {
     "data": {
      "text/plain": [
       "0    0\n",
       "1    0\n",
       "2    0\n",
       "3    1\n",
       "4    0\n",
       "Name: Churn, dtype: int64"
      ]
     },
     "execution_count": 24,
     "metadata": {},
     "output_type": "execute_result"
    }
   ],
   "source": [
    "y0 = df['Churn']\n",
    "y0.head()"
   ]
  },
  {
   "cell_type": "code",
   "execution_count": 25,
   "id": "519a2dce",
   "metadata": {
    "execution": {
     "iopub.execute_input": "2023-08-25T08:05:43.205737Z",
     "iopub.status.busy": "2023-08-25T08:05:43.204969Z",
     "iopub.status.idle": "2023-08-25T08:05:43.240152Z",
     "shell.execute_reply": "2023-08-25T08:05:43.239223Z"
    },
    "papermill": {
     "duration": 0.062181,
     "end_time": "2023-08-25T08:05:43.242372",
     "exception": false,
     "start_time": "2023-08-25T08:05:43.180191",
     "status": "completed"
    },
    "tags": []
   },
   "outputs": [],
   "source": [
    "# Encoding categorical variables\n",
    "X0 = pd.get_dummies(X0, columns=['Gender', 'Location'], drop_first=True)"
   ]
  },
  {
   "cell_type": "code",
   "execution_count": 26,
   "id": "730e4455",
   "metadata": {
    "execution": {
     "iopub.execute_input": "2023-08-25T08:05:43.293245Z",
     "iopub.status.busy": "2023-08-25T08:05:43.292449Z",
     "iopub.status.idle": "2023-08-25T08:05:43.305106Z",
     "shell.execute_reply": "2023-08-25T08:05:43.304082Z"
    },
    "papermill": {
     "duration": 0.039874,
     "end_time": "2023-08-25T08:05:43.307232",
     "exception": false,
     "start_time": "2023-08-25T08:05:43.267358",
     "status": "completed"
    },
    "tags": []
   },
   "outputs": [
    {
     "data": {
      "text/html": [
       "<div>\n",
       "<style scoped>\n",
       "    .dataframe tbody tr th:only-of-type {\n",
       "        vertical-align: middle;\n",
       "    }\n",
       "\n",
       "    .dataframe tbody tr th {\n",
       "        vertical-align: top;\n",
       "    }\n",
       "\n",
       "    .dataframe thead th {\n",
       "        text-align: right;\n",
       "    }\n",
       "</style>\n",
       "<table border=\"1\" class=\"dataframe\">\n",
       "  <thead>\n",
       "    <tr style=\"text-align: right;\">\n",
       "      <th></th>\n",
       "      <th>Age</th>\n",
       "      <th>Subscription_Length_Months</th>\n",
       "      <th>Monthly_Bill</th>\n",
       "      <th>Total_Usage_GB</th>\n",
       "      <th>Gender_Male</th>\n",
       "      <th>Location_Houston</th>\n",
       "      <th>Location_Los Angeles</th>\n",
       "      <th>Location_Miami</th>\n",
       "      <th>Location_New York</th>\n",
       "    </tr>\n",
       "  </thead>\n",
       "  <tbody>\n",
       "    <tr>\n",
       "      <th>0</th>\n",
       "      <td>63</td>\n",
       "      <td>17</td>\n",
       "      <td>73.36</td>\n",
       "      <td>236</td>\n",
       "      <td>1</td>\n",
       "      <td>0</td>\n",
       "      <td>1</td>\n",
       "      <td>0</td>\n",
       "      <td>0</td>\n",
       "    </tr>\n",
       "    <tr>\n",
       "      <th>1</th>\n",
       "      <td>62</td>\n",
       "      <td>1</td>\n",
       "      <td>48.76</td>\n",
       "      <td>172</td>\n",
       "      <td>0</td>\n",
       "      <td>0</td>\n",
       "      <td>0</td>\n",
       "      <td>0</td>\n",
       "      <td>1</td>\n",
       "    </tr>\n",
       "    <tr>\n",
       "      <th>2</th>\n",
       "      <td>24</td>\n",
       "      <td>5</td>\n",
       "      <td>85.47</td>\n",
       "      <td>460</td>\n",
       "      <td>0</td>\n",
       "      <td>0</td>\n",
       "      <td>1</td>\n",
       "      <td>0</td>\n",
       "      <td>0</td>\n",
       "    </tr>\n",
       "    <tr>\n",
       "      <th>3</th>\n",
       "      <td>36</td>\n",
       "      <td>3</td>\n",
       "      <td>97.94</td>\n",
       "      <td>297</td>\n",
       "      <td>0</td>\n",
       "      <td>0</td>\n",
       "      <td>0</td>\n",
       "      <td>1</td>\n",
       "      <td>0</td>\n",
       "    </tr>\n",
       "    <tr>\n",
       "      <th>4</th>\n",
       "      <td>46</td>\n",
       "      <td>19</td>\n",
       "      <td>58.14</td>\n",
       "      <td>266</td>\n",
       "      <td>0</td>\n",
       "      <td>0</td>\n",
       "      <td>0</td>\n",
       "      <td>1</td>\n",
       "      <td>0</td>\n",
       "    </tr>\n",
       "  </tbody>\n",
       "</table>\n",
       "</div>"
      ],
      "text/plain": [
       "   Age  Subscription_Length_Months  Monthly_Bill  Total_Usage_GB  Gender_Male  \\\n",
       "0   63                          17         73.36             236            1   \n",
       "1   62                           1         48.76             172            0   \n",
       "2   24                           5         85.47             460            0   \n",
       "3   36                           3         97.94             297            0   \n",
       "4   46                          19         58.14             266            0   \n",
       "\n",
       "   Location_Houston  Location_Los Angeles  Location_Miami  Location_New York  \n",
       "0                 0                     1               0                  0  \n",
       "1                 0                     0               0                  1  \n",
       "2                 0                     1               0                  0  \n",
       "3                 0                     0               1                  0  \n",
       "4                 0                     0               1                  0  "
      ]
     },
     "execution_count": 26,
     "metadata": {},
     "output_type": "execute_result"
    }
   ],
   "source": [
    "X0.head()"
   ]
  },
  {
   "cell_type": "code",
   "execution_count": 27,
   "id": "6dea88cc",
   "metadata": {
    "execution": {
     "iopub.execute_input": "2023-08-25T08:05:43.359036Z",
     "iopub.status.busy": "2023-08-25T08:05:43.358264Z",
     "iopub.status.idle": "2023-08-25T08:05:43.363162Z",
     "shell.execute_reply": "2023-08-25T08:05:43.362293Z"
    },
    "papermill": {
     "duration": 0.03254,
     "end_time": "2023-08-25T08:05:43.365515",
     "exception": false,
     "start_time": "2023-08-25T08:05:43.332975",
     "status": "completed"
    },
    "tags": []
   },
   "outputs": [
    {
     "name": "stdout",
     "output_type": "stream",
     "text": [
      "New Number of Features of X dataframe: 9\n"
     ]
    }
   ],
   "source": [
    "print('New Number of Features of X dataframe: %d'%(X0.shape[1]))"
   ]
  },
  {
   "cell_type": "code",
   "execution_count": 28,
   "id": "006e3d57",
   "metadata": {
    "execution": {
     "iopub.execute_input": "2023-08-25T08:05:43.415556Z",
     "iopub.status.busy": "2023-08-25T08:05:43.414645Z",
     "iopub.status.idle": "2023-08-25T08:05:43.434402Z",
     "shell.execute_reply": "2023-08-25T08:05:43.433544Z"
    },
    "papermill": {
     "duration": 0.046958,
     "end_time": "2023-08-25T08:05:43.436364",
     "exception": false,
     "start_time": "2023-08-25T08:05:43.389406",
     "status": "completed"
    },
    "tags": []
   },
   "outputs": [],
   "source": [
    "# Splitting the data into training and testing sets\n",
    "X_train, X_test, y_train, y_test = train_test_split(X0, y0, test_size=0.2, random_state=42)"
   ]
  },
  {
   "cell_type": "code",
   "execution_count": 29,
   "id": "8fb06878",
   "metadata": {
    "execution": {
     "iopub.execute_input": "2023-08-25T08:05:43.486900Z",
     "iopub.status.busy": "2023-08-25T08:05:43.486094Z",
     "iopub.status.idle": "2023-08-25T08:05:43.505707Z",
     "shell.execute_reply": "2023-08-25T08:05:43.504847Z"
    },
    "papermill": {
     "duration": 0.047112,
     "end_time": "2023-08-25T08:05:43.507778",
     "exception": false,
     "start_time": "2023-08-25T08:05:43.460666",
     "status": "completed"
    },
    "tags": []
   },
   "outputs": [],
   "source": [
    "# Feature Scaling\n",
    "scaler = StandardScaler()\n",
    "X_train_scaled = scaler.fit_transform(X_train)\n",
    "X_test_scaled = scaler.transform(X_test)"
   ]
  },
  {
   "cell_type": "code",
   "execution_count": 30,
   "id": "b823d158",
   "metadata": {
    "execution": {
     "iopub.execute_input": "2023-08-25T08:05:43.558610Z",
     "iopub.status.busy": "2023-08-25T08:05:43.557781Z",
     "iopub.status.idle": "2023-08-25T08:05:43.655155Z",
     "shell.execute_reply": "2023-08-25T08:05:43.654084Z"
    },
    "papermill": {
     "duration": 0.125661,
     "end_time": "2023-08-25T08:05:43.658019",
     "exception": false,
     "start_time": "2023-08-25T08:05:43.532358",
     "status": "completed"
    },
    "tags": []
   },
   "outputs": [
    {
     "name": "stdout",
     "output_type": "stream",
     "text": [
      "Age                           0.003456\n",
      "Subscription_Length_Months    0.009336\n",
      "Monthly_Bill                  0.001998\n",
      "Total_Usage_GB               -0.002928\n",
      "Gender_Male                   0.013815\n",
      "Location_Houston              0.002571\n",
      "Location_Los Angeles         -0.008213\n",
      "Location_Miami                0.005178\n",
      "Location_New York            -0.001034\n",
      "dtype: float64\n"
     ]
    }
   ],
   "source": [
    "# Calculate the correlation matrix between scaled features and 'Churn'\n",
    "correlation_scaled_churn = pd.DataFrame(X_train_scaled, columns=X_train.columns).corrwith(y_train)\n",
    "\n",
    "# Print the correlation values\n",
    "print(correlation_scaled_churn)"
   ]
  },
  {
   "cell_type": "markdown",
   "id": "19274e51",
   "metadata": {
    "papermill": {
     "duration": 0.026398,
     "end_time": "2023-08-25T08:05:43.713464",
     "exception": false,
     "start_time": "2023-08-25T08:05:43.687066",
     "status": "completed"
    },
    "tags": []
   },
   "source": [
    "# 4. Feature Engineering"
   ]
  },
  {
   "cell_type": "code",
   "execution_count": 31,
   "id": "4a1de46a",
   "metadata": {
    "execution": {
     "iopub.execute_input": "2023-08-25T08:05:43.766338Z",
     "iopub.status.busy": "2023-08-25T08:05:43.765988Z",
     "iopub.status.idle": "2023-08-25T08:05:43.773983Z",
     "shell.execute_reply": "2023-08-25T08:05:43.773095Z"
    },
    "papermill": {
     "duration": 0.036085,
     "end_time": "2023-08-25T08:05:43.776070",
     "exception": false,
     "start_time": "2023-08-25T08:05:43.739985",
     "status": "completed"
    },
    "tags": []
   },
   "outputs": [],
   "source": [
    "df1=df.copy()"
   ]
  },
  {
   "cell_type": "code",
   "execution_count": 32,
   "id": "51457b9f",
   "metadata": {
    "execution": {
     "iopub.execute_input": "2023-08-25T08:05:43.826347Z",
     "iopub.status.busy": "2023-08-25T08:05:43.826062Z",
     "iopub.status.idle": "2023-08-25T08:05:43.882900Z",
     "shell.execute_reply": "2023-08-25T08:05:43.881954Z"
    },
    "papermill": {
     "duration": 0.084629,
     "end_time": "2023-08-25T08:05:43.885261",
     "exception": false,
     "start_time": "2023-08-25T08:05:43.800632",
     "status": "completed"
    },
    "tags": []
   },
   "outputs": [],
   "source": [
    "# Feature Interaction\n",
    "df1['Interaction_Subscription_Bill'] = df1['Subscription_Length_Months'] * df1['Monthly_Bill']\n",
    "\n",
    "# Age Binning\n",
    "bins = [0, 30, 60, 100]\n",
    "labels = ['Young', 'Adult', 'Senior']\n",
    "df1['Age_Category'] = pd.cut(df1['Age'], bins=bins, labels=labels)\n",
    "\n",
    "# Log Transform\n",
    "df1['Log_Total_Usage_GB'] = np.log(df1['Total_Usage_GB'] + 1)  # Adding 1 to avoid log(0)\n",
    "\n",
    "# One-Hot Encoding\n",
    "df1 = pd.get_dummies(df1, columns=['Gender', 'Location', 'Age_Category'], drop_first=True)\n",
    "\n",
    "# Feature Ratios\n",
    "df1['Usage_Per_Month'] = df1['Total_Usage_GB'] / df1['Subscription_Length_Months']\n",
    "\n",
    "# Feature Differences\n",
    "df1['Bill_Usage_Difference'] = df1['Monthly_Bill'] - df1['Total_Usage_GB']\n"
   ]
  },
  {
   "cell_type": "code",
   "execution_count": 33,
   "id": "997639e2",
   "metadata": {
    "execution": {
     "iopub.execute_input": "2023-08-25T08:05:43.937417Z",
     "iopub.status.busy": "2023-08-25T08:05:43.937106Z",
     "iopub.status.idle": "2023-08-25T08:05:43.955617Z",
     "shell.execute_reply": "2023-08-25T08:05:43.954695Z"
    },
    "papermill": {
     "duration": 0.046272,
     "end_time": "2023-08-25T08:05:43.957792",
     "exception": false,
     "start_time": "2023-08-25T08:05:43.911520",
     "status": "completed"
    },
    "tags": []
   },
   "outputs": [
    {
     "data": {
      "text/html": [
       "<div>\n",
       "<style scoped>\n",
       "    .dataframe tbody tr th:only-of-type {\n",
       "        vertical-align: middle;\n",
       "    }\n",
       "\n",
       "    .dataframe tbody tr th {\n",
       "        vertical-align: top;\n",
       "    }\n",
       "\n",
       "    .dataframe thead th {\n",
       "        text-align: right;\n",
       "    }\n",
       "</style>\n",
       "<table border=\"1\" class=\"dataframe\">\n",
       "  <thead>\n",
       "    <tr style=\"text-align: right;\">\n",
       "      <th></th>\n",
       "      <th>Age</th>\n",
       "      <th>Subscription_Length_Months</th>\n",
       "      <th>Monthly_Bill</th>\n",
       "      <th>Total_Usage_GB</th>\n",
       "      <th>Churn</th>\n",
       "      <th>Interaction_Subscription_Bill</th>\n",
       "      <th>Log_Total_Usage_GB</th>\n",
       "      <th>Gender_Male</th>\n",
       "      <th>Location_Houston</th>\n",
       "      <th>Location_Los Angeles</th>\n",
       "      <th>Location_Miami</th>\n",
       "      <th>Location_New York</th>\n",
       "      <th>Age_Category_Adult</th>\n",
       "      <th>Age_Category_Senior</th>\n",
       "      <th>Usage_Per_Month</th>\n",
       "      <th>Bill_Usage_Difference</th>\n",
       "    </tr>\n",
       "  </thead>\n",
       "  <tbody>\n",
       "    <tr>\n",
       "      <th>0</th>\n",
       "      <td>63</td>\n",
       "      <td>17</td>\n",
       "      <td>73.36</td>\n",
       "      <td>236</td>\n",
       "      <td>0</td>\n",
       "      <td>1247.12</td>\n",
       "      <td>5.468060</td>\n",
       "      <td>1</td>\n",
       "      <td>0</td>\n",
       "      <td>1</td>\n",
       "      <td>0</td>\n",
       "      <td>0</td>\n",
       "      <td>0</td>\n",
       "      <td>1</td>\n",
       "      <td>13.882353</td>\n",
       "      <td>-162.64</td>\n",
       "    </tr>\n",
       "    <tr>\n",
       "      <th>1</th>\n",
       "      <td>62</td>\n",
       "      <td>1</td>\n",
       "      <td>48.76</td>\n",
       "      <td>172</td>\n",
       "      <td>0</td>\n",
       "      <td>48.76</td>\n",
       "      <td>5.153292</td>\n",
       "      <td>0</td>\n",
       "      <td>0</td>\n",
       "      <td>0</td>\n",
       "      <td>0</td>\n",
       "      <td>1</td>\n",
       "      <td>0</td>\n",
       "      <td>1</td>\n",
       "      <td>172.000000</td>\n",
       "      <td>-123.24</td>\n",
       "    </tr>\n",
       "    <tr>\n",
       "      <th>2</th>\n",
       "      <td>24</td>\n",
       "      <td>5</td>\n",
       "      <td>85.47</td>\n",
       "      <td>460</td>\n",
       "      <td>0</td>\n",
       "      <td>427.35</td>\n",
       "      <td>6.133398</td>\n",
       "      <td>0</td>\n",
       "      <td>0</td>\n",
       "      <td>1</td>\n",
       "      <td>0</td>\n",
       "      <td>0</td>\n",
       "      <td>0</td>\n",
       "      <td>0</td>\n",
       "      <td>92.000000</td>\n",
       "      <td>-374.53</td>\n",
       "    </tr>\n",
       "    <tr>\n",
       "      <th>3</th>\n",
       "      <td>36</td>\n",
       "      <td>3</td>\n",
       "      <td>97.94</td>\n",
       "      <td>297</td>\n",
       "      <td>1</td>\n",
       "      <td>293.82</td>\n",
       "      <td>5.697093</td>\n",
       "      <td>0</td>\n",
       "      <td>0</td>\n",
       "      <td>0</td>\n",
       "      <td>1</td>\n",
       "      <td>0</td>\n",
       "      <td>1</td>\n",
       "      <td>0</td>\n",
       "      <td>99.000000</td>\n",
       "      <td>-199.06</td>\n",
       "    </tr>\n",
       "    <tr>\n",
       "      <th>4</th>\n",
       "      <td>46</td>\n",
       "      <td>19</td>\n",
       "      <td>58.14</td>\n",
       "      <td>266</td>\n",
       "      <td>0</td>\n",
       "      <td>1104.66</td>\n",
       "      <td>5.587249</td>\n",
       "      <td>0</td>\n",
       "      <td>0</td>\n",
       "      <td>0</td>\n",
       "      <td>1</td>\n",
       "      <td>0</td>\n",
       "      <td>1</td>\n",
       "      <td>0</td>\n",
       "      <td>14.000000</td>\n",
       "      <td>-207.86</td>\n",
       "    </tr>\n",
       "  </tbody>\n",
       "</table>\n",
       "</div>"
      ],
      "text/plain": [
       "   Age  Subscription_Length_Months  Monthly_Bill  Total_Usage_GB  Churn  \\\n",
       "0   63                          17         73.36             236      0   \n",
       "1   62                           1         48.76             172      0   \n",
       "2   24                           5         85.47             460      0   \n",
       "3   36                           3         97.94             297      1   \n",
       "4   46                          19         58.14             266      0   \n",
       "\n",
       "   Interaction_Subscription_Bill  Log_Total_Usage_GB  Gender_Male  \\\n",
       "0                        1247.12            5.468060            1   \n",
       "1                          48.76            5.153292            0   \n",
       "2                         427.35            6.133398            0   \n",
       "3                         293.82            5.697093            0   \n",
       "4                        1104.66            5.587249            0   \n",
       "\n",
       "   Location_Houston  Location_Los Angeles  Location_Miami  Location_New York  \\\n",
       "0                 0                     1               0                  0   \n",
       "1                 0                     0               0                  1   \n",
       "2                 0                     1               0                  0   \n",
       "3                 0                     0               1                  0   \n",
       "4                 0                     0               1                  0   \n",
       "\n",
       "   Age_Category_Adult  Age_Category_Senior  Usage_Per_Month  \\\n",
       "0                   0                    1        13.882353   \n",
       "1                   0                    1       172.000000   \n",
       "2                   0                    0        92.000000   \n",
       "3                   1                    0        99.000000   \n",
       "4                   1                    0        14.000000   \n",
       "\n",
       "   Bill_Usage_Difference  \n",
       "0                -162.64  \n",
       "1                -123.24  \n",
       "2                -374.53  \n",
       "3                -199.06  \n",
       "4                -207.86  "
      ]
     },
     "execution_count": 33,
     "metadata": {},
     "output_type": "execute_result"
    }
   ],
   "source": [
    "df1.head()"
   ]
  },
  {
   "cell_type": "code",
   "execution_count": 34,
   "id": "57279c98",
   "metadata": {
    "execution": {
     "iopub.execute_input": "2023-08-25T08:05:44.009168Z",
     "iopub.status.busy": "2023-08-25T08:05:44.008330Z",
     "iopub.status.idle": "2023-08-25T08:05:44.016459Z",
     "shell.execute_reply": "2023-08-25T08:05:44.015588Z"
    },
    "papermill": {
     "duration": 0.035981,
     "end_time": "2023-08-25T08:05:44.018511",
     "exception": false,
     "start_time": "2023-08-25T08:05:43.982530",
     "status": "completed"
    },
    "tags": []
   },
   "outputs": [],
   "source": [
    "df2=df1.drop('Churn',axis=1)"
   ]
  },
  {
   "cell_type": "code",
   "execution_count": 35,
   "id": "3e903167",
   "metadata": {
    "execution": {
     "iopub.execute_input": "2023-08-25T08:05:44.071142Z",
     "iopub.status.busy": "2023-08-25T08:05:44.069546Z",
     "iopub.status.idle": "2023-08-25T08:05:44.241563Z",
     "shell.execute_reply": "2023-08-25T08:05:44.240410Z"
    },
    "papermill": {
     "duration": 0.200383,
     "end_time": "2023-08-25T08:05:44.243879",
     "exception": false,
     "start_time": "2023-08-25T08:05:44.043496",
     "status": "completed"
    },
    "tags": []
   },
   "outputs": [
    {
     "name": "stdout",
     "output_type": "stream",
     "text": [
      "Age                              0.004850\n",
      "Subscription_Length_Months       0.000085\n",
      "Monthly_Bill                    -0.001508\n",
      "Total_Usage_GB                  -0.002581\n",
      "Interaction_Subscription_Bill   -0.001314\n",
      "Log_Total_Usage_GB              -0.003215\n",
      "Gender_Male                      0.003259\n",
      "Location_Houston                -0.005604\n",
      "Location_Los Angeles            -0.002910\n",
      "Location_Miami                   0.004744\n",
      "Location_New York                0.006686\n",
      "Age_Category_Adult               0.003419\n",
      "Age_Category_Senior              0.002218\n",
      "Usage_Per_Month                  0.000637\n",
      "Bill_Usage_Difference            0.002322\n",
      "dtype: float64\n"
     ]
    }
   ],
   "source": [
    "# Calculate the correlation matrix between scaled features and 'Churn'\n",
    "correlation_scaled_churn = pd.DataFrame(df2, columns=df2.columns).corrwith(y_train)\n",
    "\n",
    "# Print the correlation values\n",
    "print(correlation_scaled_churn)"
   ]
  },
  {
   "cell_type": "code",
   "execution_count": 36,
   "id": "70e3cc10",
   "metadata": {
    "execution": {
     "iopub.execute_input": "2023-08-25T08:05:44.298022Z",
     "iopub.status.busy": "2023-08-25T08:05:44.297188Z",
     "iopub.status.idle": "2023-08-25T08:05:44.349391Z",
     "shell.execute_reply": "2023-08-25T08:05:44.348408Z"
    },
    "papermill": {
     "duration": 0.080807,
     "end_time": "2023-08-25T08:05:44.351876",
     "exception": false,
     "start_time": "2023-08-25T08:05:44.271069",
     "status": "completed"
    },
    "tags": []
   },
   "outputs": [],
   "source": [
    "# Splitting the data into training and testing sets\n",
    "X = df1.drop('Churn', axis=1)\n",
    "y = df1['Churn']\n",
    "X_train, X_test, y_train, y_test = train_test_split(X, y, test_size=0.2, random_state=42)\n",
    "\n",
    "# Feature Scaling\n",
    "scaler = StandardScaler()\n",
    "X_train_scaled = scaler.fit_transform(X_train)\n",
    "X_test_scaled = scaler.transform(X_test)"
   ]
  },
  {
   "cell_type": "code",
   "execution_count": 37,
   "id": "f8719d8b",
   "metadata": {
    "execution": {
     "iopub.execute_input": "2023-08-25T08:05:44.404054Z",
     "iopub.status.busy": "2023-08-25T08:05:44.403204Z",
     "iopub.status.idle": "2023-08-25T08:05:44.566113Z",
     "shell.execute_reply": "2023-08-25T08:05:44.565108Z"
    },
    "papermill": {
     "duration": 0.190988,
     "end_time": "2023-08-25T08:05:44.568207",
     "exception": false,
     "start_time": "2023-08-25T08:05:44.377219",
     "status": "completed"
    },
    "tags": []
   },
   "outputs": [
    {
     "name": "stdout",
     "output_type": "stream",
     "text": [
      "Age                              0.003456\n",
      "Subscription_Length_Months       0.009336\n",
      "Monthly_Bill                     0.001998\n",
      "Total_Usage_GB                  -0.002928\n",
      "Interaction_Subscription_Bill    0.009411\n",
      "Log_Total_Usage_GB              -0.003065\n",
      "Gender_Male                      0.013815\n",
      "Location_Houston                 0.002571\n",
      "Location_Los Angeles            -0.008213\n",
      "Location_Miami                   0.005178\n",
      "Location_New York               -0.001034\n",
      "Age_Category_Adult              -0.004154\n",
      "Age_Category_Senior              0.006264\n",
      "Usage_Per_Month                 -0.008227\n",
      "Bill_Usage_Difference            0.003202\n",
      "dtype: float64\n"
     ]
    }
   ],
   "source": [
    "# Calculate the correlation matrix between scaled features and 'Churn'\n",
    "correlation_scaled_churn = pd.DataFrame(X_train_scaled, columns=X_train.columns).corrwith(y_train)\n",
    "\n",
    "# Print the correlation values\n",
    "print(correlation_scaled_churn)"
   ]
  },
  {
   "cell_type": "markdown",
   "id": "dd02851a",
   "metadata": {
    "papermill": {
     "duration": 0.024943,
     "end_time": "2023-08-25T08:05:44.618279",
     "exception": false,
     "start_time": "2023-08-25T08:05:44.593336",
     "status": "completed"
    },
    "tags": []
   },
   "source": [
    "# 5. Model Selection and Training\n",
    "Now, we'll build and evaluate machine learning models to predict customer churn. We'll use various classifiers and evaluate their performance using metrics such as accuracy, precision, recall, F1-score, and more."
   ]
  },
  {
   "cell_type": "code",
   "execution_count": 38,
   "id": "4eeb32b0",
   "metadata": {
    "execution": {
     "iopub.execute_input": "2023-08-25T08:05:44.673634Z",
     "iopub.status.busy": "2023-08-25T08:05:44.672674Z",
     "iopub.status.idle": "2023-08-25T08:05:45.104434Z",
     "shell.execute_reply": "2023-08-25T08:05:45.103419Z"
    },
    "papermill": {
     "duration": 0.460098,
     "end_time": "2023-08-25T08:05:45.107001",
     "exception": false,
     "start_time": "2023-08-25T08:05:44.646903",
     "status": "completed"
    },
    "tags": []
   },
   "outputs": [],
   "source": [
    "from sklearn.ensemble import RandomForestClassifier, AdaBoostClassifier, GradientBoostingClassifier\n",
    "from sklearn.linear_model import LogisticRegression\n",
    "from xgboost import XGBClassifier\n",
    "from sklearn.metrics import accuracy_score\n",
    "import joblib"
   ]
  },
  {
   "cell_type": "code",
   "execution_count": 39,
   "id": "f60fae29",
   "metadata": {
    "execution": {
     "iopub.execute_input": "2023-08-25T08:05:45.159172Z",
     "iopub.status.busy": "2023-08-25T08:05:45.158362Z",
     "iopub.status.idle": "2023-08-25T08:05:45.164184Z",
     "shell.execute_reply": "2023-08-25T08:05:45.163296Z"
    },
    "papermill": {
     "duration": 0.033785,
     "end_time": "2023-08-25T08:05:45.166243",
     "exception": false,
     "start_time": "2023-08-25T08:05:45.132458",
     "status": "completed"
    },
    "tags": []
   },
   "outputs": [],
   "source": [
    "# Choose models\n",
    "models = [\n",
    "    ('RF', RandomForestClassifier(n_estimators=9, random_state=42)),\n",
    "    ('ABC', AdaBoostClassifier(n_estimators=9, random_state=42)),\n",
    "    ('XGB', XGBClassifier(n_estimators=9, random_state=42)),\n",
    "    ('LR', LogisticRegression(random_state=42, max_iter=1000))\n",
    "]"
   ]
  },
  {
   "cell_type": "code",
   "execution_count": 40,
   "id": "c0ae5fb8",
   "metadata": {
    "execution": {
     "iopub.execute_input": "2023-08-25T08:05:45.217800Z",
     "iopub.status.busy": "2023-08-25T08:05:45.217009Z",
     "iopub.status.idle": "2023-08-25T08:05:49.293772Z",
     "shell.execute_reply": "2023-08-25T08:05:49.292396Z"
    },
    "papermill": {
     "duration": 4.106703,
     "end_time": "2023-08-25T08:05:49.297576",
     "exception": false,
     "start_time": "2023-08-25T08:05:45.190873",
     "status": "completed"
    },
    "tags": []
   },
   "outputs": [],
   "source": [
    "# Train and evaluate each model\n",
    "results = []\n",
    "for name, model in models:\n",
    "    model.fit(X_train_scaled, y_train)\n",
    "    y_pred = model.predict(X_test_scaled)\n",
    "    accuracy = accuracy_score(y_test, y_pred)\n",
    "    results.append((name, accuracy))"
   ]
  },
  {
   "cell_type": "code",
   "execution_count": 41,
   "id": "797cccad",
   "metadata": {
    "execution": {
     "iopub.execute_input": "2023-08-25T08:05:49.415855Z",
     "iopub.status.busy": "2023-08-25T08:05:49.415287Z",
     "iopub.status.idle": "2023-08-25T08:05:49.421287Z",
     "shell.execute_reply": "2023-08-25T08:05:49.420236Z"
    },
    "papermill": {
     "duration": 0.061857,
     "end_time": "2023-08-25T08:05:49.423140",
     "exception": false,
     "start_time": "2023-08-25T08:05:49.361283",
     "status": "completed"
    },
    "tags": []
   },
   "outputs": [],
   "source": [
    "# Sort the models based on accuracy\n",
    "sorted_results = sorted(results, key=lambda x: x[1], reverse=True)"
   ]
  },
  {
   "cell_type": "code",
   "execution_count": 42,
   "id": "13b0e35a",
   "metadata": {
    "execution": {
     "iopub.execute_input": "2023-08-25T08:05:49.474684Z",
     "iopub.status.busy": "2023-08-25T08:05:49.473856Z",
     "iopub.status.idle": "2023-08-25T08:05:49.479702Z",
     "shell.execute_reply": "2023-08-25T08:05:49.478609Z"
    },
    "papermill": {
     "duration": 0.033465,
     "end_time": "2023-08-25T08:05:49.481668",
     "exception": false,
     "start_time": "2023-08-25T08:05:49.448203",
     "status": "completed"
    },
    "tags": []
   },
   "outputs": [
    {
     "name": "stdout",
     "output_type": "stream",
     "text": [
      "XGB: Accuracy = 0.50435\n",
      "LR: Accuracy = 0.50375\n",
      "RF: Accuracy = 0.50175\n",
      "ABC: Accuracy = 0.49855\n"
     ]
    }
   ],
   "source": [
    "# Print the sorted results\n",
    "for name, accuracy in sorted_results:\n",
    "    print(f'{name}: Accuracy = {accuracy}')"
   ]
  },
  {
   "cell_type": "code",
   "execution_count": 43,
   "id": "d09b3aa5",
   "metadata": {
    "execution": {
     "iopub.execute_input": "2023-08-25T08:05:49.533760Z",
     "iopub.status.busy": "2023-08-25T08:05:49.532979Z",
     "iopub.status.idle": "2023-08-25T08:05:49.537614Z",
     "shell.execute_reply": "2023-08-25T08:05:49.536760Z"
    },
    "papermill": {
     "duration": 0.032624,
     "end_time": "2023-08-25T08:05:49.539553",
     "exception": false,
     "start_time": "2023-08-25T08:05:49.506929",
     "status": "completed"
    },
    "tags": []
   },
   "outputs": [],
   "source": [
    "# Model Building (Random Forest Classifier)\n",
    "model = RandomForestClassifier(random_state=42)"
   ]
  },
  {
   "cell_type": "code",
   "execution_count": 44,
   "id": "8d848104",
   "metadata": {
    "execution": {
     "iopub.execute_input": "2023-08-25T08:05:49.590878Z",
     "iopub.status.busy": "2023-08-25T08:05:49.590084Z",
     "iopub.status.idle": "2023-08-25T08:05:49.594479Z",
     "shell.execute_reply": "2023-08-25T08:05:49.593523Z"
    },
    "papermill": {
     "duration": 0.032261,
     "end_time": "2023-08-25T08:05:49.596424",
     "exception": false,
     "start_time": "2023-08-25T08:05:49.564163",
     "status": "completed"
    },
    "tags": []
   },
   "outputs": [],
   "source": [
    "from sklearn.model_selection import train_test_split, cross_val_score, RandomizedSearchCV"
   ]
  },
  {
   "cell_type": "code",
   "execution_count": 45,
   "id": "3546e418",
   "metadata": {
    "execution": {
     "iopub.execute_input": "2023-08-25T08:05:49.648236Z",
     "iopub.status.busy": "2023-08-25T08:05:49.647966Z",
     "iopub.status.idle": "2023-08-25T08:05:49.651932Z",
     "shell.execute_reply": "2023-08-25T08:05:49.651080Z"
    },
    "papermill": {
     "duration": 0.032331,
     "end_time": "2023-08-25T08:05:49.653818",
     "exception": false,
     "start_time": "2023-08-25T08:05:49.621487",
     "status": "completed"
    },
    "tags": []
   },
   "outputs": [],
   "source": [
    "# # Hyperparameter tuning using GridSearchCV\n",
    "# param_grid = {\n",
    "#     'n_estimators': [100, 200, 300],\n",
    "#     'max_depth': [None, 10, 20],\n",
    "#     'min_samples_split': [2, 5, 10],\n",
    "#     'min_samples_leaf': [1, 2, 4]\n",
    "# }"
   ]
  },
  {
   "cell_type": "code",
   "execution_count": 46,
   "id": "4921249f",
   "metadata": {
    "execution": {
     "iopub.execute_input": "2023-08-25T08:05:49.705039Z",
     "iopub.status.busy": "2023-08-25T08:05:49.704179Z",
     "iopub.status.idle": "2023-08-25T08:05:49.708599Z",
     "shell.execute_reply": "2023-08-25T08:05:49.707766Z"
    },
    "papermill": {
     "duration": 0.031929,
     "end_time": "2023-08-25T08:05:49.710505",
     "exception": false,
     "start_time": "2023-08-25T08:05:49.678576",
     "status": "completed"
    },
    "tags": []
   },
   "outputs": [],
   "source": [
    "# from sklearn.metrics import accuracy_score, precision_score, recall_score, f1_score\n",
    "# from sklearn.model_selection import GridSearchCV\n",
    "\n",
    "# grid_search = GridSearchCV(model, param_grid, cv=5)\n",
    "# grid_search.fit(X_train_scaled, y_train)\n",
    "# best_model = grid_search.best_estimator_"
   ]
  },
  {
   "cell_type": "code",
   "execution_count": 47,
   "id": "45eb9167",
   "metadata": {
    "execution": {
     "iopub.execute_input": "2023-08-25T08:05:49.761443Z",
     "iopub.status.busy": "2023-08-25T08:05:49.761171Z",
     "iopub.status.idle": "2023-08-25T08:05:49.765018Z",
     "shell.execute_reply": "2023-08-25T08:05:49.764067Z"
    },
    "papermill": {
     "duration": 0.031801,
     "end_time": "2023-08-25T08:05:49.766919",
     "exception": false,
     "start_time": "2023-08-25T08:05:49.735118",
     "status": "completed"
    },
    "tags": []
   },
   "outputs": [],
   "source": [
    "# # Cross-validation\n",
    "# cv_scores = cross_val_score(best_model, X_train_scaled, y_train, cv=5, scoring='accuracy')"
   ]
  },
  {
   "cell_type": "code",
   "execution_count": 48,
   "id": "3f4b7c15",
   "metadata": {
    "execution": {
     "iopub.execute_input": "2023-08-25T08:05:49.818405Z",
     "iopub.status.busy": "2023-08-25T08:05:49.817580Z",
     "iopub.status.idle": "2023-08-25T08:05:49.822019Z",
     "shell.execute_reply": "2023-08-25T08:05:49.821146Z"
    },
    "papermill": {
     "duration": 0.032134,
     "end_time": "2023-08-25T08:05:49.823966",
     "exception": false,
     "start_time": "2023-08-25T08:05:49.791832",
     "status": "completed"
    },
    "tags": []
   },
   "outputs": [],
   "source": [
    "# # Model Evaluation\n",
    "# y_pred = best_model.predict(X_test_scaled)\n",
    "# accuracy = accuracy_score(y_test, y_pred)\n",
    "# precision = precision_score(y_test, y_pred)\n",
    "# recall = recall_score(y_test, y_pred)\n",
    "# f1 = f1_score(y_test, y_pred)"
   ]
  },
  {
   "cell_type": "code",
   "execution_count": 49,
   "id": "ec89ee47",
   "metadata": {
    "execution": {
     "iopub.execute_input": "2023-08-25T08:05:49.875447Z",
     "iopub.status.busy": "2023-08-25T08:05:49.874598Z",
     "iopub.status.idle": "2023-08-25T08:05:49.878886Z",
     "shell.execute_reply": "2023-08-25T08:05:49.878041Z"
    },
    "papermill": {
     "duration": 0.032272,
     "end_time": "2023-08-25T08:05:49.880880",
     "exception": false,
     "start_time": "2023-08-25T08:05:49.848608",
     "status": "completed"
    },
    "tags": []
   },
   "outputs": [],
   "source": [
    "# print(f\"Best Model Parameters: {grid_search.best_params_}\")\n",
    "# print(f\"Cross-Validation Accuracy: {np.mean(cv_scores):.2f}\")\n",
    "# print(f\"Test Set Accuracy: {accuracy:.2f}\")\n",
    "# print(f\"Precision: {precision:.2f}\")\n",
    "# print(f\"Recall: {recall:.2f}\")\n",
    "# print(f\"F1-Score: {f1:.2f}\")"
   ]
  },
  {
   "cell_type": "code",
   "execution_count": 50,
   "id": "6cdbe5c1",
   "metadata": {
    "execution": {
     "iopub.execute_input": "2023-08-25T08:05:49.934614Z",
     "iopub.status.busy": "2023-08-25T08:05:49.933746Z",
     "iopub.status.idle": "2023-08-25T08:05:49.938088Z",
     "shell.execute_reply": "2023-08-25T08:05:49.937233Z"
    },
    "papermill": {
     "duration": 0.031886,
     "end_time": "2023-08-25T08:05:49.940103",
     "exception": false,
     "start_time": "2023-08-25T08:05:49.908217",
     "status": "completed"
    },
    "tags": []
   },
   "outputs": [],
   "source": [
    "# import joblib\n",
    "# joblib.dump(best_model, 'GridSearchModel.pkl')"
   ]
  },
  {
   "cell_type": "code",
   "execution_count": 51,
   "id": "e620cd96",
   "metadata": {
    "execution": {
     "iopub.execute_input": "2023-08-25T08:05:49.991065Z",
     "iopub.status.busy": "2023-08-25T08:05:49.990338Z",
     "iopub.status.idle": "2023-08-25T08:31:02.679737Z",
     "shell.execute_reply": "2023-08-25T08:31:02.678678Z"
    },
    "papermill": {
     "duration": 1512.717911,
     "end_time": "2023-08-25T08:31:02.682547",
     "exception": false,
     "start_time": "2023-08-25T08:05:49.964636",
     "status": "completed"
    },
    "tags": []
   },
   "outputs": [],
   "source": [
    "# Hyperparameter tuning using RandomizedSearchCV\n",
    "param_dist = {\n",
    "    'n_estimators': [100, 200, 300],\n",
    "    'max_depth': [None, 10, 20],\n",
    "    'min_samples_split': [2, 5, 10],\n",
    "    'min_samples_leaf': [1, 2, 4]\n",
    "}\n",
    "\n",
    "random_search = RandomizedSearchCV(model, param_distributions=param_dist, n_iter=10, cv=5)\n",
    "random_search.fit(X_train_scaled, y_train)\n",
    "best_model = random_search.best_estimator_"
   ]
  },
  {
   "cell_type": "code",
   "execution_count": 52,
   "id": "76778573",
   "metadata": {
    "execution": {
     "iopub.execute_input": "2023-08-25T08:31:02.735120Z",
     "iopub.status.busy": "2023-08-25T08:31:02.734778Z",
     "iopub.status.idle": "2023-08-25T08:31:03.858087Z",
     "shell.execute_reply": "2023-08-25T08:31:03.857108Z"
    },
    "papermill": {
     "duration": 1.152503,
     "end_time": "2023-08-25T08:31:03.860815",
     "exception": false,
     "start_time": "2023-08-25T08:31:02.708312",
     "status": "completed"
    },
    "tags": []
   },
   "outputs": [],
   "source": [
    "# Model Evaluation\n",
    "y_pred = best_model.predict(X_test_scaled)\n",
    "accuracy = accuracy_score(y_test, y_pred)\n",
    "precision = precision_score(y_test, y_pred)\n",
    "recall = recall_score(y_test, y_pred)\n",
    "f1 = f1_score(y_test, y_pred)"
   ]
  },
  {
   "cell_type": "code",
   "execution_count": 53,
   "id": "439a2288",
   "metadata": {
    "execution": {
     "iopub.execute_input": "2023-08-25T08:31:03.914777Z",
     "iopub.status.busy": "2023-08-25T08:31:03.914442Z",
     "iopub.status.idle": "2023-08-25T08:31:03.921243Z",
     "shell.execute_reply": "2023-08-25T08:31:03.919743Z"
    },
    "papermill": {
     "duration": 0.035433,
     "end_time": "2023-08-25T08:31:03.923371",
     "exception": false,
     "start_time": "2023-08-25T08:31:03.887938",
     "status": "completed"
    },
    "tags": []
   },
   "outputs": [
    {
     "name": "stdout",
     "output_type": "stream",
     "text": [
      "Best Model Parameters: {'n_estimators': 300, 'min_samples_split': 2, 'min_samples_leaf': 2, 'max_depth': 20}\n",
      "Test Set Accuracy: 0.50\n",
      "Precision: 0.49\n",
      "Recall: 0.46\n",
      "F1-Score: 0.48\n"
     ]
    }
   ],
   "source": [
    "print(f\"Best Model Parameters: {random_search.best_params_}\")\n",
    "print(f\"Test Set Accuracy: {accuracy:.2f}\")\n",
    "print(f\"Precision: {precision:.2f}\")\n",
    "print(f\"Recall: {recall:.2f}\")\n",
    "print(f\"F1-Score: {f1:.2f}\")"
   ]
  },
  {
   "cell_type": "code",
   "execution_count": 54,
   "id": "76a9e526",
   "metadata": {
    "execution": {
     "iopub.execute_input": "2023-08-25T08:31:03.974699Z",
     "iopub.status.busy": "2023-08-25T08:31:03.974423Z",
     "iopub.status.idle": "2023-08-25T08:31:04.367479Z",
     "shell.execute_reply": "2023-08-25T08:31:04.366296Z"
    },
    "papermill": {
     "duration": 0.421722,
     "end_time": "2023-08-25T08:31:04.370163",
     "exception": false,
     "start_time": "2023-08-25T08:31:03.948441",
     "status": "completed"
    },
    "tags": []
   },
   "outputs": [
    {
     "data": {
      "text/plain": [
       "['RandomSearchModel.pkl']"
      ]
     },
     "execution_count": 54,
     "metadata": {},
     "output_type": "execute_result"
    }
   ],
   "source": [
    "import joblib\n",
    "joblib.dump(best_model, 'RandomSearchModel.pkl')"
   ]
  },
  {
   "cell_type": "markdown",
   "id": "39383d0a",
   "metadata": {
    "papermill": {
     "duration": 0.025598,
     "end_time": "2023-08-25T08:31:04.421653",
     "exception": false,
     "start_time": "2023-08-25T08:31:04.396055",
     "status": "completed"
    },
    "tags": []
   },
   "source": [
    "# Conclusion\n",
    "In this analysis, we explored the Telecom Customer Churn dataset to predict customer churn. We loaded the data, visualized missing values, performed data manipulation, and visualized patterns in the data. After preprocessing the data, we built and evaluated several machine learning models, aiming to predict customer churn effectively.\n",
    "\n",
    "Reducing customer churn is vital for telecom companies to maintain profitability and market share. By utilizing predictive models, companies can focus their retention efforts on customers most likely to churn, leading to increased customer loyalty and overall success.\n",
    "\n",
    "Stay connected to your customers, and keep them satisfied to reduce churn and ensure business growth!"
   ]
  }
 ],
 "metadata": {
  "kernelspec": {
   "display_name": "Python 3",
   "language": "python",
   "name": "python3"
  },
  "language_info": {
   "codemirror_mode": {
    "name": "ipython",
    "version": 3
   },
   "file_extension": ".py",
   "mimetype": "text/x-python",
   "name": "python",
   "nbconvert_exporter": "python",
   "pygments_lexer": "ipython3",
   "version": "3.10.12"
  },
  "papermill": {
   "default_parameters": {},
   "duration": 1583.358358,
   "end_time": "2023-08-25T08:31:07.183520",
   "environment_variables": {},
   "exception": null,
   "input_path": "__notebook__.ipynb",
   "output_path": "__notebook__.ipynb",
   "parameters": {},
   "start_time": "2023-08-25T08:04:43.825162",
   "version": "2.4.0"
  }
 },
 "nbformat": 4,
 "nbformat_minor": 5
}
